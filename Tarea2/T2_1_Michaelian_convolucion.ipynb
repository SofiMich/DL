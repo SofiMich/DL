{
  "nbformat": 4,
  "nbformat_minor": 0,
  "metadata": {
    "colab": {
      "provenance": [],
      "collapsed_sections": [],
      "include_colab_link": true
    },
    "kernelspec": {
      "name": "python3",
      "display_name": "Python 3"
    },
    "gpuClass": "standard"
  },
  "cells": [
    {
      "cell_type": "markdown",
      "metadata": {
        "id": "view-in-github",
        "colab_type": "text"
      },
      "source": [
        "<a href=\"https://colab.research.google.com/github/SofiMich/DL/blob/main/Tarea2/T2_1_Michaelian_convolucion.ipynb\" target=\"_parent\"><img src=\"https://colab.research.google.com/assets/colab-badge.svg\" alt=\"Open In Colab\"/></a>"
      ]
    },
    {
      "cell_type": "markdown",
      "metadata": {
        "id": "85hL2cbtWiHs"
      },
      "source": [
        "Convolución\n",
        "En este primer ejercicio de la tarea adaptaré el notebook proporcionado para hacer la convolución sobre una imagen con tres canales aplicando el mismo filtro a cada canal."
      ]
    },
    {
      "cell_type": "code",
      "metadata": {
        "id": "jHwLDelamRFq"
      },
      "source": [
        "import matplotlib.pyplot as plt\n",
        "import numpy as np\n",
        "from sklearn.datasets import load_digits"
      ],
      "execution_count": null,
      "outputs": []
    },
    {
      "cell_type": "markdown",
      "metadata": {
        "id": "W02429ROng15"
      },
      "source": [
        "## Carga conjunto de datos de dígitos \n",
        "Usaré el mismo conjunto de dígitos de `scikit-learn`, concatenando 3 arreglos iguales al dataset original por simplicidad:"
      ]
    },
    {
      "cell_type": "code",
      "metadata": {
        "id": "i8Sxl3zRoe7W"
      },
      "source": [
        "digits = load_digits() \n",
        "zeros_ones = digits.target < 2\n",
        "data = digits.images[zeros_ones]\n",
        "labels = digits.target[zeros_ones]"
      ],
      "execution_count": null,
      "outputs": []
    },
    {
      "cell_type": "markdown",
      "source": [
        "Además de concatenar tres veces el dataset, vamos a trasponerlo para que la forma de nuestro quede como: [N, H, W, C], en donde N son los ejemplos, H y W el alto y ancho respectivamente, y C el número de canales:"
      ],
      "metadata": {
        "id": "08XHQVu8VTSE"
      }
    },
    {
      "cell_type": "code",
      "source": [
        "data3d = np.stack((data, data, data)).transpose((1,2,3,0))\n",
        "print(data3d.shape)"
      ],
      "metadata": {
        "colab": {
          "base_uri": "https://localhost:8080/"
        },
        "id": "BbIIuBzISJKA",
        "outputId": "20538ece-ee12-4f23-9350-65d54b1a0f31"
      },
      "execution_count": null,
      "outputs": [
        {
          "output_type": "stream",
          "name": "stdout",
          "text": [
            "(360, 8, 8, 3)\n"
          ]
        }
      ]
    },
    {
      "cell_type": "markdown",
      "source": [
        "Además, para que al graficarlas se vea que sí son tres canales, voy a sumarle algo de ruido aleatorio a cada imagen y a cada canal:"
      ],
      "metadata": {
        "id": "xbGrwwNPWEmz"
      }
    },
    {
      "cell_type": "code",
      "source": [
        "ruido = np.random.randint(0,data3d.max()*0.3,data3d.shape)\n",
        "data3d = data3d + ruido"
      ],
      "metadata": {
        "id": "7euzWLFmWDrE"
      },
      "execution_count": null,
      "outputs": []
    },
    {
      "cell_type": "markdown",
      "source": [
        "Finalmente normalizamos los datos:"
      ],
      "metadata": {
        "id": "CkrTZv5QWUbX"
      }
    },
    {
      "cell_type": "code",
      "source": [
        "data3d = data3d / data3d.max()"
      ],
      "metadata": {
        "id": "kGYFJnBJWUyz"
      },
      "execution_count": null,
      "outputs": []
    },
    {
      "cell_type": "markdown",
      "metadata": {
        "id": "ojbaHdaK-eo7"
      },
      "source": [
        "Visualicemos 2 instancias de los dígitos $0$ y $1$ de nuestro dataset de *juguete*:"
      ]
    },
    {
      "cell_type": "code",
      "metadata": {
        "id": "eIw_VqNVeck3",
        "colab": {
          "base_uri": "https://localhost:8080/",
          "height": 318
        },
        "outputId": "a3153473-2b3c-4f3f-8b14-bc8fe344c287"
      },
      "source": [
        "fig, axs = plt.subplots(1, 2, figsize=(10, 5))\n",
        "axs[0].imshow(data3d[0]) \n",
        "axs[0].set_title('Ejemplo de dígito 0')\n",
        "axs[1].imshow(data3d[1]) \n",
        "axs[1].set_title('Ejemplo de dígito 1')\n",
        "plt.show() "
      ],
      "execution_count": null,
      "outputs": [
        {
          "output_type": "display_data",
          "data": {
            "text/plain": [
              "<Figure size 720x360 with 2 Axes>"
            ],
            "image/png": "[encoded data removed]"
          },
          "metadata": {
            "needs_background": "light"
          }
        }
      ]
    },
    {
      "cell_type": "markdown",
      "source": [
        "Como podemos ver, los dígitos siguen siendo legibles (dentro de lo que cabe) y son a color :B"
      ],
      "metadata": {
        "id": "YwMlNIWEW5vM"
      }
    },
    {
      "cell_type": "code",
      "source": [
        "digits.target"
      ],
      "metadata": {
        "colab": {
          "base_uri": "https://localhost:8080/"
        },
        "id": "xKl-r3uDqqLv",
        "outputId": "8f0c152b-adeb-49ef-83b4-6da58714b99b"
      },
      "execution_count": null,
      "outputs": [
        {
          "output_type": "execute_result",
          "data": {
            "text/plain": [
              "array([0, 1, 2, ..., 8, 9, 8])"
            ]
          },
          "metadata": {},
          "execution_count": 61
        }
      ]
    },
    {
      "cell_type": "markdown",
      "metadata": {
        "id": "P6QRdNNaCmc8"
      },
      "source": [
        "## Convolución \n",
        "La convolución entre una imagen $I$ y un filtro $W$ está definida por:\n",
        "\n",
        "$$\n",
        "A_{i,j} = (\\mathbf{I} * \\mathbf{W})_{i,j} = \\sum_m \\sum_n I_{m, n} W_{i - m, j - n},\n",
        "$$\n",
        "\n",
        "o, equivalentemente:\n",
        "\n",
        "$$\n",
        "A_{i,j} = (\\mathbf{W} * \\mathbf{I})_{i,j} = \\sum_m \\sum_n I_{i - m, j - n} W_{m,n},\n",
        "$$\n",
        "\n",
        "ya que es conmutativa."
      ]
    },
    {
      "cell_type": "markdown",
      "source": [
        "Partiendo de la convolución definida en el notebook original, definiré una nueva con un ciclo anidado más que barre cada canal, aplicando así el mismo filtro por canal:"
      ],
      "metadata": {
        "id": "pAm8sqzXs8hg"
      }
    },
    {
      "cell_type": "code",
      "source": [
        "from scipy.special import keip\n",
        "def conv2d3c(I, W, b, stride = 1):\n",
        "  h_s = int(np.floor((I.shape[0] - W.shape[0]) / stride)) + 1\n",
        "  w_s = int(np.floor((I.shape[1] - W.shape[1]) / stride)) + 1\n",
        "\n",
        "  a = np.zeros((h_s, w_s))\n",
        "  for i in range(h_s):\n",
        "      for j in range(w_s):\n",
        "        I_m = I[ i * stride:i * stride + W.shape[0], j * stride:j * stride + W.shape[1]]\n",
        "\n",
        "        a[i, j] = (I_m * W).sum() + b\n",
        "                  \n",
        "  return a"
      ],
      "metadata": {
        "id": "x-N8yTfGhVbh"
      },
      "execution_count": null,
      "outputs": []
    },
    {
      "cell_type": "markdown",
      "metadata": {
        "id": "RY9UBGoqhCDR"
      },
      "source": [
        "## Filtro\n",
        "\n",
        "Usaré el mismo filtro de $3 \\times 3$ que ya teníamos para la version BN para definir un filtro de $3\\times 3 \\times 3$:"
      ]
    },
    {
      "cell_type": "code",
      "metadata": {
        "id": "26O7xja9hDYM",
        "colab": {
          "base_uri": "https://localhost:8080/",
          "height": 304
        },
        "outputId": "6f31d333-0aa0-4af8-fcfb-52b891347dfe"
      },
      "source": [
        "filter = np.zeros((3,3))\n",
        "np.fill_diagonal(filter, np.array([1, 1, 1]))\n",
        "filter1 = np.stack((filter, filter, filter)).transpose((1,2,0))\n",
        "print(filter1.shape) #para checar las dimensiones\n",
        "plt.imshow(filter1)"
      ],
      "execution_count": null,
      "outputs": [
        {
          "output_type": "stream",
          "name": "stdout",
          "text": [
            "(3, 3, 3)\n"
          ]
        },
        {
          "output_type": "execute_result",
          "data": {
            "text/plain": [
              "<matplotlib.image.AxesImage at 0x7f60d21cde10>"
            ]
          },
          "metadata": {},
          "execution_count": 63
        },
        {
          "output_type": "display_data",
          "data": {
            "text/plain": [
              "<Figure size 432x288 with 1 Axes>"
            ],
            "image/png": "[encoded data removed]"
          },
          "metadata": {
            "needs_background": "light"
          }
        }
      ]
    },
    {
      "cell_type": "markdown",
      "metadata": {
        "id": "xYS40PWxH7Su"
      },
      "source": [
        "Aplicando la convolución entre una imagen del dígito $0$ y el filtro que acabamos de definir se obtiene:"
      ]
    },
    {
      "cell_type": "code",
      "metadata": {
        "id": "JoyByBCuhK2Y",
        "colab": {
          "base_uri": "https://localhost:8080/",
          "height": 265
        },
        "outputId": "c566ca40-1dd8-48eb-eb1a-b628859c8ea8"
      },
      "source": [
        "a = conv2d3c(data3d[0], filter1, 0)\n",
        "plt.imshow(a/a.max(), cmap = 'gray') \n",
        "plt.show()"
      ],
      "execution_count": null,
      "outputs": [
        {
          "output_type": "display_data",
          "data": {
            "text/plain": [
              "<Figure size 432x288 with 1 Axes>"
            ],
            "image/png": "[encoded data removed]"
          },
          "metadata": {
            "needs_background": "light"
          }
        }
      ]
    },
    {
      "cell_type": "markdown",
      "source": [
        "Y al dígito 1:"
      ],
      "metadata": {
        "id": "dVUlhn8nU-ag"
      }
    },
    {
      "cell_type": "code",
      "metadata": {
        "id": "OlX6n1YgA6p0",
        "colab": {
          "base_uri": "https://localhost:8080/",
          "height": 282
        },
        "outputId": "bf1f266f-fe50-4132-f770-357abfbeb32f"
      },
      "source": [
        "a = conv2d3c(data3d[1], filter1, 0)\n",
        "print(a.shape) #sólo para checar...\n",
        "plt.imshow(a/a.max(), cmap = 'gray') \n",
        "plt.show()"
      ],
      "execution_count": null,
      "outputs": [
        {
          "output_type": "stream",
          "name": "stdout",
          "text": [
            "(6, 6)\n"
          ]
        },
        {
          "output_type": "display_data",
          "data": {
            "text/plain": [
              "<Figure size 432x288 with 1 Axes>"
            ],
            "image/png": "[encoded data removed]"
          },
          "metadata": {
            "needs_background": "light"
          }
        }
      ]
    },
    {
      "cell_type": "markdown",
      "metadata": {
        "id": "iLPhLhxUGd29"
      },
      "source": [
        "Usaré los mismos filtros de $3\\times 3$ del notebook original, solo que les agregamos una coordenada para los canales:"
      ]
    },
    {
      "cell_type": "code",
      "metadata": {
        "id": "_Gy8dtc8GnMq",
        "colab": {
          "base_uri": "https://localhost:8080/",
          "height": 121
        },
        "outputId": "9026736d-95f7-4cd6-fb5c-7e3939d5d470"
      },
      "source": [
        "filters = np.zeros((4, 3, 3, 3))\n",
        "filters[0, :, :, :] = filter1\n",
        "filters[1, 1, :, :] = 1\n",
        "filters[2, :, 1, :] = 1\n",
        "filters[3, :, :, :] = filter1[::-1]\n",
        "\n",
        "b = np.zeros(4)\n",
        "\n",
        "plt.subplot(1,4,1)\n",
        "plt.imshow(filters[0]) \n",
        "plt.subplot(1,4,2)\n",
        "plt.imshow(filters[1]) \n",
        "plt.subplot(1,4,3)\n",
        "plt.imshow(filters[2]) \n",
        "plt.subplot(1,4,4)\n",
        "plt.imshow(filters[3]) \n",
        "plt.show()"
      ],
      "execution_count": null,
      "outputs": [
        {
          "output_type": "display_data",
          "data": {
            "text/plain": [
              "<Figure size 432x288 with 4 Axes>"
            ],
            "image/png": "[encoded data removed]"
          },
          "metadata": {
            "needs_background": "light"
          }
        }
      ]
    },
    {
      "cell_type": "markdown",
      "metadata": {
        "id": "_rWqf1OfW_RW"
      },
      "source": [
        "Para aplicar la operación de convolución con cada uno de estos filtros definimos la siguiente función que usa nuestra función de convolución en 3 canales definida previamente:"
      ]
    },
    {
      "cell_type": "code",
      "metadata": {
        "id": "fHDYREZ0im1w"
      },
      "source": [
        "def multi_conv2d3c(I, W, b, stride = 1):\n",
        "  k = W.shape[0]\n",
        "  \n",
        "  activations = []\n",
        "  for i in range(k):\n",
        "    activations.append(conv2d3c(I, W[i], b[i], stride = 1)) \n",
        "                       \n",
        "  return np.array(activations)"
      ],
      "execution_count": null,
      "outputs": []
    },
    {
      "cell_type": "markdown",
      "metadata": {
        "id": "syOtzu1ySCLB"
      },
      "source": [
        "Al evaluar esta función con cuatro distintos filtros para nuestras dos imágenes, obtenemos los siguientes mapas de activaciones que también tienen tres canales cada uno:"
      ]
    },
    {
      "cell_type": "code",
      "metadata": {
        "id": "y--qB6r0K-HT",
        "colab": {
          "base_uri": "https://localhost:8080/",
          "height": 265
        },
        "outputId": "cc0ab308-3883-432e-9fbb-b95ba37a6cab"
      },
      "source": [
        "activations_0 = np.tanh(multi_conv2d3c(data3d[0], filters, b))\n",
        "activations_1 = np.tanh(multi_conv2d3c(data3d[1], filters, b))\n",
        "\n",
        "for i in range(4):\n",
        "  plt.subplot(3,4,i + 1)\n",
        "  plt.imshow(filters[i])\n",
        "  plt.subplot(3,4,i + 5)\n",
        "  plt.imshow(activations_0[i], cmap = 'gray')\n",
        "  plt.subplot(3,4,i + 9)\n",
        "  plt.imshow(activations_1[i], cmap = 'gray')"
      ],
      "execution_count": null,
      "outputs": [
        {
          "output_type": "display_data",
          "data": {
            "text/plain": [
              "<Figure size 432x288 with 12 Axes>"
            ],
            "image/png": "[encoded data removed]"
          },
          "metadata": {
            "needs_background": "light"
          }
        }
      ]
    },
    {
      "cell_type": "markdown",
      "metadata": {
        "id": "JqeGeXo_XiiE"
      },
      "source": [
        "Solo para ver qué pasa, vamos a aplicar el max pooling sobre las activaciones (usando exactamente las mismas funciones que en el notebook original:"
      ]
    },
    {
      "cell_type": "code",
      "metadata": {
        "id": "Z_IcRjX13VGV"
      },
      "source": [
        "def submuestreo_maximo(activations, block = (2,2)):\n",
        "  H, W = activations.shape\n",
        "  H_s = H // block[0]\n",
        "  W_s = W // block[1]\n",
        "\n",
        "  sub_a = np.zeros((H_s,W_s))\n",
        "  max_x = activations.reshape((H * W_s, block[1])).max(axis = 1)\n",
        "  sub_a = max_x.T.reshape((W_s, block[0], H_s)).max(axis = 1)\n",
        "  \n",
        "  return sub_a\n",
        "\n",
        "def multi_submuestreo_maximo(activations, block = (2,2)):\n",
        "  k = activations.shape[0]\n",
        "  sub_a = []\n",
        "  for i in range(k):\n",
        "    sub_a.append(submuestreo_maximo(activations[i]))\n",
        "                       \n",
        "  return np.array(sub_a)"
      ],
      "execution_count": null,
      "outputs": []
    },
    {
      "cell_type": "code",
      "metadata": {
        "id": "dCqTIsIqqdox",
        "colab": {
          "base_uri": "https://localhost:8080/",
          "height": 239
        },
        "outputId": "5d741e76-d1d9-4a56-bbd7-60b5e8cbce2c"
      },
      "source": [
        "sub_a0 = multi_submuestreo_maximo(activations_0)\n",
        "sub_a1 = multi_submuestreo_maximo(activations_1)\n",
        "for i in range(4):  \n",
        "\n",
        "  plt.subplot(2,4,i + 1)\n",
        "  plt.imshow(sub_a0[i], cmap = 'gray')\n",
        "  plt.subplot(2,4,i + 5)\n",
        "  plt.imshow(sub_a1[i], cmap = 'gray')"
      ],
      "execution_count": null,
      "outputs": [
        {
          "output_type": "display_data",
          "data": {
            "text/plain": [
              "<Figure size 432x288 with 8 Axes>"
            ],
            "image/png": "[encoded data removed]"
          },
          "metadata": {
            "needs_background": "light"
          }
        }
      ]
    },
    {
      "cell_type": "code",
      "source": [],
      "metadata": {
        "id": "eK4amiGk1Zg4"
      },
      "execution_count": null,
      "outputs": []
    }
  ]
}