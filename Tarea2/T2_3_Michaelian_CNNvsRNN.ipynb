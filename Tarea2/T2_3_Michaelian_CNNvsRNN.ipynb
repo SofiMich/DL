{
  "cells": [
    {
      "cell_type": "markdown",
      "metadata": {
        "id": "view-in-github",
        "colab_type": "text"
      },
      "source": [
        "<a href=\"https://colab.research.google.com/github/SofiMich/DL/blob/main/Tarea2/T2_3_Michaelian_CNNvsRNN.ipynb\" target=\"_parent\"><img src=\"https://colab.research.google.com/assets/colab-badge.svg\" alt=\"Open In Colab\"/></a>"
      ]
    },
    {
      "cell_type": "markdown",
      "metadata": {
        "id": "P4Z23LahzbFN"
      },
      "source": [
        "# Reconocimiento de acciones humanas usando una red recurrente y una convolucional\n",
        "\n",
        "Basándome en la libreta original vista en clase y usando en el conjunto [UCF11](https://www.crcv.ucf.edu/data/UCF_YouTube_Action.php), vamos comparar el rendimiento de las arquitecturas RNN y CNN.\n",
        "\n",
        "<img src=\"https://www.crcv.ucf.edu/data/youtube_snaps.jpg\" width=800/>\n",
        "\n"
      ]
    },
    {
      "cell_type": "markdown",
      "metadata": {
        "id": "2TKwIuvbzbFS"
      },
      "source": [
        "## 1 Preparación"
      ]
    },
    {
      "cell_type": "markdown",
      "metadata": {
        "id": "BpVFwZifzbFT"
      },
      "source": [
        "### 1.1 Bibliotecas"
      ]
    },
    {
      "cell_type": "code",
      "execution_count": null,
      "metadata": {
        "id": "QjwGlDx4zbFT",
        "outputId": "a19ace9b-6bbf-4fd0-beb1-b413cc70fa2e",
        "colab": {
          "base_uri": "https://localhost:8080/"
        }
      },
      "outputs": [
        {
          "output_type": "stream",
          "name": "stdout",
          "text": [
            "Looking in indexes: https://pypi.org/simple, https://us-python.pkg.dev/colab-wheels/public/simple/\n",
            "Collecting torchinfo\n",
            "  Downloading torchinfo-1.7.1-py3-none-any.whl (22 kB)\n",
            "Installing collected packages: torchinfo\n",
            "Successfully installed torchinfo-1.7.1\n",
            "Looking in indexes: https://pypi.org/simple, https://us-python.pkg.dev/colab-wheels/public/simple/\n",
            "Collecting zarr\n",
            "  Downloading zarr-2.12.0-py3-none-any.whl (185 kB)\n",
            "\u001b[K     |████████████████████████████████| 185 kB 5.0 MB/s \n",
            "\u001b[?25hCollecting fasteners\n",
            "  Downloading fasteners-0.18-py3-none-any.whl (18 kB)\n",
            "Collecting asciitree\n",
            "  Downloading asciitree-0.3.3.tar.gz (4.0 kB)\n",
            "Collecting numcodecs>=0.6.4\n",
            "  Downloading numcodecs-0.10.2-cp37-cp37m-manylinux_2_17_x86_64.manylinux2014_x86_64.whl (6.6 MB)\n",
            "\u001b[K     |████████████████████████████████| 6.6 MB 44.6 MB/s \n",
            "\u001b[?25hRequirement already satisfied: numpy>=1.7 in /usr/local/lib/python3.7/dist-packages (from zarr) (1.21.6)\n",
            "Requirement already satisfied: entrypoints in /usr/local/lib/python3.7/dist-packages (from numcodecs>=0.6.4->zarr) (0.4)\n",
            "Requirement already satisfied: typing-extensions>=3.7.4 in /usr/local/lib/python3.7/dist-packages (from numcodecs>=0.6.4->zarr) (4.1.1)\n",
            "Building wheels for collected packages: asciitree\n",
            "  Building wheel for asciitree (setup.py) ... \u001b[?25l\u001b[?25hdone\n",
            "  Created wheel for asciitree: filename=asciitree-0.3.3-py3-none-any.whl size=5050 sha256=77aac78a948027ed4f0722eb0d0dc9e929e4c80d5abb81e61bd65e98d578055b\n",
            "  Stored in directory: /root/.cache/pip/wheels/12/1c/38/0def51e15add93bff3f4bf9c248b94db0839b980b8535e72a0\n",
            "Successfully built asciitree\n",
            "Installing collected packages: numcodecs, fasteners, asciitree, zarr\n",
            "Successfully installed asciitree-0.3.3 fasteners-0.18 numcodecs-0.10.2 zarr-2.12.0\n"
          ]
        }
      ],
      "source": [
        "# Colab\n",
        "# https://github.com/TylerYep/torchinfo\n",
        "!pip install torchinfo\n",
        "# https://zarr.readthedocs.io/en/stable/\n",
        "!pip install zarr"
      ]
    },
    {
      "cell_type": "code",
      "execution_count": null,
      "metadata": {
        "id": "Ny0L2LzogTN-"
      },
      "outputs": [],
      "source": [
        "# sistema de archivos\n",
        "import os\n",
        "# funciones aleatorias\n",
        "import random\n",
        "# descomprimir\n",
        "import tarfile\n",
        "# sistema de archivos\n",
        "from os.path import join\n",
        "\n",
        "# arreglos multidimensionales\n",
        "import numpy as np\n",
        "# redes neuronales\n",
        "import torch\n",
        "import torch.nn as nn\n",
        "import torch.nn.functional as F\n",
        "import torch.optim as optim\n",
        "import torchvision.datasets.utils as tvu\n",
        "# almacenamiento de arreglos multidimensionales\n",
        "import zarr\n",
        "#redes\n",
        "from torch.utils.data import DataLoader, random_split\n",
        "# inspección de arquitectura\n",
        "from torchinfo import summary\n",
        "\n",
        "# directorio de datos\n",
        "DATA_DIR = '../data'\n",
        "\n",
        "# tamaño del lote\n",
        "BATCH_SIZE = 32\n",
        "# tamaño del vector de características\n",
        "FEAT_SIZE = 1024\n",
        "\n",
        "# reproducibilidad\n",
        "SEED = 0\n",
        "random.seed(SEED)\n",
        "np.random.seed(SEED)\n",
        "torch_gen = torch.manual_seed(SEED)\n",
        "\n",
        "# barras de progreso\n",
        "from tqdm.auto import trange\n",
        "from tqdm.auto import tqdm"
      ]
    },
    {
      "cell_type": "markdown",
      "metadata": {
        "id": "lD57MWEYzbFW"
      },
      "source": [
        "## 2 Datos"
      ]
    },
    {
      "cell_type": "markdown",
      "metadata": {
        "id": "msQUqIj1zbFX"
      },
      "source": [
        "### 2.1 Conjunto de datos"
      ]
    },
    {
      "cell_type": "code",
      "execution_count": null,
      "metadata": {
        "id": "l0ffO6KczbFY"
      },
      "outputs": [],
      "source": [
        "class UCF11:\n",
        "\n",
        "    def __init__(self, root, download=False):\n",
        "        self.root = root\n",
        "        self.zarr_dir = join(root, 'ucf11.zarr')\n",
        "        if download:\n",
        "            self.download()\n",
        "        self.z = zarr.open(self.zarr_dir, 'r')\n",
        "        self.paths = list(self.z.array_keys())\n",
        "        \n",
        "    def __getitem__(self, i):\n",
        "        arr = self.z[self.paths[i]]\n",
        "        x = np.array(arr)\n",
        "        y = np.array(arr.attrs['y'], dtype=np.int64)\n",
        "        return x, y\n",
        "\n",
        "    def __len__(self):\n",
        "        return len(self.paths)\n",
        "    \n",
        "    def _check_integrity(self):\n",
        "        return os.path.isdir(self.zarr_dir)\n",
        "    \n",
        "    def _extract(self, root, filename):\n",
        "        tar = tarfile.open(join(root, filename), \"r:gz\")\n",
        "        tar.extractall(root)\n",
        "        tar.close()\n",
        "\n",
        "    def download(self):\n",
        "        if self._check_integrity():\n",
        "            print('Files already downloaded and verified')\n",
        "            return\n",
        "        tvu.download_url(\n",
        "            url='https://cloud.xibalba.com.mx/s/apYrNA4iM4K65o7/download',\n",
        "            root=self.root,\n",
        "            filename='ucf11.zarr.tar.gz',\n",
        "            md5='c8a82454f9ec092d00bcd99c849e03fd'\n",
        "        )\n",
        "        self._extract(self.root, 'ucf11.zarr.tar.gz')"
      ]
    },
    {
      "cell_type": "markdown",
      "metadata": {
        "id": "7i-HdyFSzbFZ"
      },
      "source": [
        "### 2.2 Instancia del conjunto y partición"
      ]
    },
    {
      "cell_type": "code",
      "execution_count": null,
      "metadata": {
        "id": "1copxxWszbFa",
        "outputId": "b821a8dc-9a14-4fa2-c9ba-940290b55043",
        "colab": {
          "referenced_widgets": [
            "b885a84a65204210b688540bd5430370",
            "4d15fc4c5a5e4bdbb25bb01ab864475d",
            "fcded925ae5540588658e89f79ecc5eb",
            "cd3fc94202c8402e8742ade9e982d159",
            "a6899144da6244b4abe84febce912a1e",
            "1d758f033df1477ba0335e7509ff04e6",
            "4ebc5ee02fd24669a067fe8002239869",
            "2dde5eaa25504081b35b0076b862c5ea",
            "335e5dda01fd4969b359501a98a5e2fe",
            "4820c1ab56dd428bb4b51e1dfbc731b2",
            "b6ebe62ee5d14f32a56297f41731b9cc"
          ],
          "base_uri": "https://localhost:8080/",
          "height": 136
        }
      },
      "outputs": [
        {
          "output_type": "stream",
          "name": "stdout",
          "text": [
            "Downloading https://cloud.xibalba.com.mx/s/apYrNA4iM4K65o7/download to ../data/ucf11/ucf11.zarr.tar.gz\n"
          ]
        },
        {
          "output_type": "display_data",
          "data": {
            "text/plain": [
              "  0%|          | 0/53436566 [00:00<?, ?it/s]"
            ],
            "application/vnd.jupyter.widget-view+json": {
              "version_major": 2,
              "version_minor": 0,
              "model_id": "b885a84a65204210b688540bd5430370"
            }
          },
          "metadata": {}
        },
        {
          "output_type": "stream",
          "name": "stdout",
          "text": [
            "x shape=(10, 1024) dtype=float32\n",
            "x [0][:5]=[0.00022111 0.00368518 0.00314753 0.00201778 0.09296297]\n",
            "y shape=() dtype=int64 0\n",
            "y 0\n"
          ]
        }
      ],
      "source": [
        "ds = UCF11(join(DATA_DIR, 'ucf11'), True)\n",
        "x, y = ds[0]\n",
        "print(f'x shape={x.shape} dtype={x.dtype}')\n",
        "print(f'x [0][:5]={x[0][:5]}')\n",
        "print(f'y shape={y.shape} dtype={y.dtype} {y}')\n",
        "print(f'y {y}')"
      ]
    },
    {
      "cell_type": "code",
      "execution_count": null,
      "metadata": {
        "id": "wtlJF7EczbFa",
        "outputId": "c0a91a49-3cb2-4655-a215-858296e872e0",
        "colab": {
          "base_uri": "https://localhost:8080/"
        }
      },
      "outputs": [
        {
          "output_type": "execute_result",
          "data": {
            "text/plain": [
              "(1279, 320)"
            ]
          },
          "metadata": {},
          "execution_count": 5
        }
      ],
      "source": [
        "trn_size = int(0.8 * len(ds))\n",
        "tst_size = len(ds) - trn_size\n",
        "trn_ds, tst_ds = random_split(ds, [trn_size, tst_size])\n",
        "len(trn_ds), len(tst_ds)"
      ]
    },
    {
      "cell_type": "markdown",
      "metadata": {
        "id": "mi_oUWjxzbFb"
      },
      "source": [
        "### 2.3 Cargadores de datos"
      ]
    },
    {
      "cell_type": "code",
      "execution_count": null,
      "metadata": {
        "id": "ebOl-Dl9zbFb"
      },
      "outputs": [],
      "source": [
        "trn_dl = DataLoader(\n",
        "    # conjunto\n",
        "    trn_ds,\n",
        "    # tamaño del lote\n",
        "    batch_size=BATCH_SIZE,\n",
        "    # desordenar\n",
        "    shuffle=True,\n",
        "    # procesos paralelos\n",
        "    num_workers=2\n",
        ")\n",
        "tst_dl = DataLoader(\n",
        "    # conjunto\n",
        "    tst_ds,\n",
        "    # tamaño del lote\n",
        "    batch_size=BATCH_SIZE,\n",
        "    # desordenar\n",
        "    shuffle=True,\n",
        "    # procesos paralelos\n",
        "    num_workers=2\n",
        ")"
      ]
    },
    {
      "cell_type": "code",
      "execution_count": null,
      "metadata": {
        "id": "edxKCaGYzbFc",
        "outputId": "58cb64f6-4fc0-458f-fbe2-8eb7301ad838",
        "colab": {
          "base_uri": "https://localhost:8080/"
        }
      },
      "outputs": [
        {
          "output_type": "stream",
          "name": "stdout",
          "text": [
            "x shape=torch.Size([32, 10, 1024]) dtype=torch.float32\n",
            "y shape=torch.Size([32]) dtype=torch.int64\n"
          ]
        }
      ],
      "source": [
        "x, y = next(iter(trn_dl))\n",
        "print(f'x shape={x.shape} dtype={x.dtype}')\n",
        "print(f'y shape={y.shape} dtype={y.dtype}')"
      ]
    },
    {
      "cell_type": "markdown",
      "metadata": {
        "id": "F_fkyisQzbFc"
      },
      "source": [
        "## 3 Modelos"
      ]
    },
    {
      "cell_type": "markdown",
      "source": [
        "### 3.1 CNN"
      ],
      "metadata": {
        "id": "tqc0A4qjgPZ6"
      }
    },
    {
      "cell_type": "markdown",
      "source": [
        "Bloque convolucional en este caso tendrá sólo una convolución 1d:"
      ],
      "metadata": {
        "id": "d6-EG4Ycm0oB"
      }
    },
    {
      "cell_type": "code",
      "source": [
        "# definición del modelo\n",
        "class CNN(nn.Module):\n",
        "    \n",
        "    # inicializador\n",
        "    def __init__(self):\n",
        "        # inicilización del objeto padre, obligatorio\n",
        "        super(CNN, self).__init__()\n",
        "        self.num_feats = 11*1024\n",
        "        \n",
        "        self.cnn = nn.Sequential(\n",
        "            nn.Conv1d(in_channels=10, out_channels=11, kernel_size=3, padding=1),\n",
        "            nn.ReLU(),\n",
        "        )       \n",
        "        \n",
        "        self.flatten = nn.Flatten()\n",
        "        self.cls = nn.Linear(self.num_feats, 11)\n",
        "    \n",
        "    # metodo para inferencia\n",
        "    def forward(self, x):\n",
        "        x = self.cnn(x)\n",
        "        x = self.flatten(x)\n",
        "        x = self.cls(x)\n",
        "        return x"
      ],
      "metadata": {
        "id": "XW_TakHJ48Su"
      },
      "execution_count": null,
      "outputs": []
    },
    {
      "cell_type": "code",
      "source": [
        "modelCNN = CNN().eval()\n",
        "modelCNN(torch.zeros(1, 10, 1024)).shape"
      ],
      "metadata": {
        "colab": {
          "base_uri": "https://localhost:8080/"
        },
        "id": "YqW3mcmpvD16",
        "outputId": "4aaebe0e-8aba-4ae8-87c6-556e7e71456a"
      },
      "execution_count": null,
      "outputs": [
        {
          "output_type": "execute_result",
          "data": {
            "text/plain": [
              "torch.Size([1, 11])"
            ]
          },
          "metadata": {},
          "execution_count": 9
        }
      ]
    },
    {
      "cell_type": "code",
      "source": [
        "summary(modelCNN, (1, 10, 1024), device='cpu', verbose=0)"
      ],
      "metadata": {
        "colab": {
          "base_uri": "https://localhost:8080/"
        },
        "id": "bsLw4jUyzfwd",
        "outputId": "a719815a-aed7-47e4-a838-66eaf385588f"
      },
      "execution_count": null,
      "outputs": [
        {
          "output_type": "execute_result",
          "data": {
            "text/plain": [
              "==========================================================================================\n",
              "Layer (type:depth-idx)                   Output Shape              Param #\n",
              "==========================================================================================\n",
              "CNN                                      [1, 11]                   --\n",
              "├─Sequential: 1-1                        [1, 11, 1024]             --\n",
              "│    └─Conv1d: 2-1                       [1, 11, 1024]             341\n",
              "│    └─ReLU: 2-2                         [1, 11, 1024]             --\n",
              "├─Flatten: 1-2                           [1, 11264]                --\n",
              "├─Linear: 1-3                            [1, 11]                   123,915\n",
              "==========================================================================================\n",
              "Total params: 124,256\n",
              "Trainable params: 124,256\n",
              "Non-trainable params: 0\n",
              "Total mult-adds (M): 0.47\n",
              "==========================================================================================\n",
              "Input size (MB): 0.04\n",
              "Forward/backward pass size (MB): 0.09\n",
              "Params size (MB): 0.50\n",
              "Estimated Total Size (MB): 0.63\n",
              "=========================================================================================="
            ]
          },
          "metadata": {},
          "execution_count": 10
        }
      ]
    },
    {
      "cell_type": "markdown",
      "metadata": {
        "id": "snpulBUBzbFd"
      },
      "source": [
        "### 3.1 RNN"
      ]
    },
    {
      "cell_type": "markdown",
      "source": [
        "Este bloque es idéntico al visto en clase salvo por un par de modificaciones:\n",
        "\n",
        "1. Cambié la unidad recurrente nn.GRU por defecto a una nn.GRU bidireccional, así tanto los cuadros siguientes como los anteriores al cuadro correspondiente al tiempo t abonarán al contexto del cuadro t.\n",
        "\n",
        "2. Para que los bloques RNN y CNN tengan un número similar de parámetros, cambié el número de características en el estado oculto de la RNN de 128 a 20, dado que no hay mucho que podamos hacer para modificar drásticamente el número de parámetros en la CNN con una convolución 1D. El número de parámetros entrenables en el RNN bidireccional es de 891,147, mientras que para el CNN es de 124,256. Después de hacer esta modificación, la RNN queda de 128,019 parámentros entrenables."
      ],
      "metadata": {
        "id": "JA-cTmceu5p9"
      }
    },
    {
      "cell_type": "markdown",
      "source": [
        "#### 1.3.1 Cambiando la unidad recurrente por una bidireccional:"
      ],
      "metadata": {
        "id": "QAg-GyDICJz1"
      }
    },
    {
      "cell_type": "code",
      "source": [
        "class RNN1(nn.Module):\n",
        "\n",
        "    def __init__(self, input_size=1024, hidden_size=128, num_classes=11):\n",
        "        super().__init__()\n",
        "        self.bn = nn.BatchNorm1d(input_size)\n",
        "        self.rnn = nn.GRU(input_size=input_size, hidden_size=hidden_size,\n",
        "                          num_layers=1, batch_first=True, bidirectional = True) # bidirectional = True para hacer la unidad bidireccional (temporalmente hablando)\n",
        "        self.cls = nn.Linear(2*hidden_size, num_classes)\n",
        "\n",
        "    def forward(self, x):\n",
        "        # Batch, Seq, Feats, Hidden\n",
        "        # [B, S, F] => [B, F, S]\n",
        "        x = x.movedim(1, 2)\n",
        "        # [B, F, S]\n",
        "        x = self.bn(x)\n",
        "        # [B, F, S] => [B, S, F]\n",
        "        x = x.movedim(1, 2)\n",
        "        # [B, S, F] => [B, S, H]\n",
        "        x, _ = self.rnn(x)\n",
        "        # [B, S, H] => [B, H]\n",
        "        # toma el último paso, participación 1\n",
        "        x = x[:, -1, :]\n",
        "        # [B, H] = [B, 11]\n",
        "        x = self.cls(x)\n",
        "        return x"
      ],
      "metadata": {
        "id": "C_vL82Cw26J7"
      },
      "execution_count": null,
      "outputs": []
    },
    {
      "cell_type": "code",
      "execution_count": null,
      "metadata": {
        "id": "ZiHMaJYpzbFd",
        "outputId": "2691b50c-3891-46f1-cec6-05d07fbf759c",
        "colab": {
          "base_uri": "https://localhost:8080/"
        }
      },
      "outputs": [
        {
          "output_type": "execute_result",
          "data": {
            "text/plain": [
              "torch.Size([1, 11])"
            ]
          },
          "metadata": {},
          "execution_count": 12
        }
      ],
      "source": [
        "modelRNN1 = RNN1().eval()\n",
        "modelRNN1(torch.zeros(1, 10, 1024)).shape"
      ]
    },
    {
      "cell_type": "code",
      "execution_count": null,
      "metadata": {
        "id": "xJl3f0GNzbFh",
        "outputId": "809aca59-ba41-4b1b-c041-9ecd5c27ad1c",
        "colab": {
          "base_uri": "https://localhost:8080/"
        }
      },
      "outputs": [
        {
          "output_type": "execute_result",
          "data": {
            "text/plain": [
              "==========================================================================================\n",
              "Layer (type:depth-idx)                   Output Shape              Param #\n",
              "==========================================================================================\n",
              "RNN1                                     [1, 11]                   --\n",
              "├─BatchNorm1d: 1-1                       [1, 1024, 10]             2,048\n",
              "├─GRU: 1-2                               [1, 10, 256]              886,272\n",
              "├─Linear: 1-3                            [1, 11]                   2,827\n",
              "==========================================================================================\n",
              "Total params: 891,147\n",
              "Trainable params: 891,147\n",
              "Non-trainable params: 0\n",
              "Total mult-adds (M): 8.87\n",
              "==========================================================================================\n",
              "Input size (MB): 0.04\n",
              "Forward/backward pass size (MB): 0.10\n",
              "Params size (MB): 3.56\n",
              "Estimated Total Size (MB): 3.71\n",
              "=========================================================================================="
            ]
          },
          "metadata": {},
          "execution_count": 13
        }
      ],
      "source": [
        "summary(modelRNN1, (1, 10, 1024), device='cpu', verbose=0)"
      ]
    },
    {
      "cell_type": "markdown",
      "source": [
        "#### 1.3.2 Ajustando el número de parámetros:"
      ],
      "metadata": {
        "id": "kQRPk6ocCzts"
      }
    },
    {
      "cell_type": "code",
      "source": [
        "class RNN2(nn.Module):\n",
        "\n",
        "    def __init__(self, input_size=1024, hidden_size=20, num_classes=11):\n",
        "        super().__init__()\n",
        "        self.bn = nn.BatchNorm1d(input_size)\n",
        "        self.rnn = nn.GRU(input_size=input_size, hidden_size=hidden_size,\n",
        "                          num_layers=1, batch_first=True, bidirectional = True) # bidirectional = True para hacer la unidad bidireccional (temporalmente hablando)\n",
        "        self.cls = nn.Linear(2*hidden_size, num_classes)\n",
        "\n",
        "    def forward(self, x):\n",
        "        # Batch, Seq, Feats, Hidden\n",
        "        # [B, S, F] => [B, F, S]\n",
        "        x = x.movedim(1, 2)\n",
        "        # [B, F, S]\n",
        "        x = self.bn(x)\n",
        "        # [B, F, S] => [B, S, F]\n",
        "        x = x.movedim(1, 2)\n",
        "        # [B, S, F] => [B, S, H]\n",
        "        x, _ = self.rnn(x)\n",
        "        # [B, S, H] => [B, H]\n",
        "        # toma el último paso, participación 1\n",
        "        x = x[:, -1, :]\n",
        "        # [B, H] = [B, 11]\n",
        "        x = self.cls(x)\n",
        "        return x"
      ],
      "metadata": {
        "id": "tMk7si6eCzts"
      },
      "execution_count": null,
      "outputs": []
    },
    {
      "cell_type": "code",
      "execution_count": null,
      "metadata": {
        "outputId": "30ee36ba-ca8e-4b7d-d001-409bf7bb7ad3",
        "colab": {
          "base_uri": "https://localhost:8080/"
        },
        "id": "9Pg00hcLDLBu"
      },
      "outputs": [
        {
          "output_type": "execute_result",
          "data": {
            "text/plain": [
              "torch.Size([1, 11])"
            ]
          },
          "metadata": {},
          "execution_count": 15
        }
      ],
      "source": [
        "modelRNN2 = RNN2().eval()\n",
        "modelRNN2(torch.zeros(1, 10, 1024)).shape"
      ]
    },
    {
      "cell_type": "code",
      "execution_count": null,
      "metadata": {
        "outputId": "c15b2c39-990a-432a-f678-2ce56e1d608e",
        "colab": {
          "base_uri": "https://localhost:8080/"
        },
        "id": "kjNDu9a7DLBv"
      },
      "outputs": [
        {
          "output_type": "execute_result",
          "data": {
            "text/plain": [
              "==========================================================================================\n",
              "Layer (type:depth-idx)                   Output Shape              Param #\n",
              "==========================================================================================\n",
              "RNN2                                     [1, 11]                   --\n",
              "├─BatchNorm1d: 1-1                       [1, 1024, 10]             2,048\n",
              "├─GRU: 1-2                               [1, 10, 40]               125,520\n",
              "├─Linear: 1-3                            [1, 11]                   451\n",
              "==========================================================================================\n",
              "Total params: 128,019\n",
              "Trainable params: 128,019\n",
              "Non-trainable params: 0\n",
              "Total mult-adds (M): 1.26\n",
              "==========================================================================================\n",
              "Input size (MB): 0.04\n",
              "Forward/backward pass size (MB): 0.09\n",
              "Params size (MB): 0.51\n",
              "Estimated Total Size (MB): 0.64\n",
              "=========================================================================================="
            ]
          },
          "metadata": {},
          "execution_count": 16
        }
      ],
      "source": [
        "summary(modelRNN2, (1, 10, 1024), device='cpu', verbose=0)"
      ]
    },
    {
      "cell_type": "markdown",
      "metadata": {
        "id": "3Nu5n6nmzbFh"
      },
      "source": [
        "## 4 Entrenamiento"
      ]
    },
    {
      "cell_type": "code",
      "execution_count": null,
      "metadata": {
        "id": "DEVFjjbWzbFi"
      },
      "outputs": [],
      "source": [
        "def entrenar(modelo, EPOCHS = 15):\n",
        "  opt = optim.Adam(modelo.parameters(), lr=1e-4)\n",
        "\n",
        "  exactitud = []\n",
        "  perdida = []\n",
        "\n",
        "  # ciclo de entrenamiento\n",
        "  for epoch in range(EPOCHS):\n",
        "\n",
        "      # modelo en modo de entrenamiento\n",
        "      modelo.train()\n",
        "    \n",
        "      # entrenamiento de una época\n",
        "      for x, y_true in trn_dl:\n",
        "          # hacemos inferencia para obtener los logits\n",
        "          y_lgts = modelo(x)\n",
        "          # calculamos la pérdida\n",
        "          loss = F.cross_entropy(y_lgts, y_true)\n",
        "          # vaciamos los gradientes\n",
        "          opt.zero_grad()\n",
        "          # retropropagamos\n",
        "          loss.backward()\n",
        "          # actulizamos parámetros\n",
        "          opt.step()\n",
        "\n",
        "      # desactivamos temporalmente la gráfica de cómputo\n",
        "      with torch.no_grad():\n",
        "\n",
        "          # modelo en modo de evaluación\n",
        "          modelo.eval()\n",
        "        \n",
        "          losses, accs = [], []\n",
        "          # validación de la época\n",
        "          for x, y_true in tst_dl:\n",
        "              # hacemos inferencia para obtener los logits\n",
        "              y_lgts = modelo(x)\n",
        "              # calculamos las probabilidades\n",
        "              y_prob = F.softmax(y_lgts, 1)\n",
        "              # obtenemos la clase predicha\n",
        "              y_pred = torch.argmax(y_prob, 1)\n",
        "            \n",
        "              # calculamos la pérdida\n",
        "              loss = F.cross_entropy(y_lgts, y_true)\n",
        "              # calculamos la exactitud\n",
        "              acc = (y_true == y_pred).type(torch.float32).mean()\n",
        "\n",
        "              # guardamos históricos\n",
        "              losses.append(loss.item() * 100)\n",
        "              accs.append(acc.item() * 100)\n",
        "\n",
        "          # imprimimos métricas\n",
        "          loss = np.mean(losses)\n",
        "          acc = np.mean(accs)\n",
        "          exactitud.append(acc)\n",
        "          perdida.append(loss)\n",
        "          print(f'E{epoch:2} loss={loss:6.2f} acc={acc:.2f}')\n",
        "\n",
        "  return exactitud, perdida"
      ]
    },
    {
      "cell_type": "code",
      "source": [
        "exactitudCNN, perdidaCNN = entrenar(modelCNN, 100)"
      ],
      "metadata": {
        "colab": {
          "base_uri": "https://localhost:8080/"
        },
        "id": "WSkv7hOtkUfd",
        "outputId": "18360afe-e24d-475a-88cd-c09cf23b26ca"
      },
      "execution_count": null,
      "outputs": [
        {
          "output_type": "stream",
          "name": "stdout",
          "text": [
            "E 0 loss=231.20 acc=22.50\n",
            "E 1 loss=226.83 acc=21.88\n",
            "E 2 loss=220.94 acc=26.25\n",
            "E 3 loss=217.05 acc=29.69\n",
            "E 4 loss=211.44 acc=29.38\n",
            "E 5 loss=208.78 acc=29.69\n",
            "E 6 loss=203.50 acc=33.44\n",
            "E 7 loss=200.66 acc=34.06\n",
            "E 8 loss=196.86 acc=35.31\n",
            "E 9 loss=194.68 acc=37.81\n",
            "E10 loss=190.40 acc=39.06\n",
            "E11 loss=187.60 acc=39.06\n",
            "E12 loss=184.79 acc=41.25\n",
            "E13 loss=184.33 acc=40.62\n",
            "E14 loss=179.83 acc=42.19\n",
            "E15 loss=182.44 acc=40.00\n",
            "E16 loss=178.30 acc=43.44\n",
            "E17 loss=178.50 acc=45.31\n",
            "E18 loss=175.34 acc=44.06\n",
            "E19 loss=175.02 acc=43.12\n",
            "E20 loss=173.17 acc=44.38\n",
            "E21 loss=172.96 acc=43.75\n",
            "E22 loss=170.45 acc=47.19\n",
            "E23 loss=169.50 acc=44.06\n",
            "E24 loss=168.40 acc=46.56\n",
            "E25 loss=166.80 acc=45.31\n",
            "E26 loss=168.07 acc=45.94\n",
            "E27 loss=169.46 acc=45.94\n",
            "E28 loss=165.51 acc=46.88\n",
            "E29 loss=164.96 acc=47.81\n",
            "E30 loss=163.18 acc=48.12\n",
            "E31 loss=162.50 acc=47.81\n",
            "E32 loss=164.25 acc=47.81\n",
            "E33 loss=162.26 acc=48.75\n",
            "E34 loss=161.18 acc=46.88\n",
            "E35 loss=161.50 acc=45.94\n",
            "E36 loss=164.33 acc=47.50\n",
            "E37 loss=161.25 acc=48.75\n",
            "E38 loss=160.34 acc=48.75\n",
            "E39 loss=160.47 acc=50.62\n",
            "E40 loss=161.41 acc=47.19\n",
            "E41 loss=158.06 acc=49.38\n",
            "E42 loss=161.19 acc=49.06\n",
            "E43 loss=159.83 acc=49.69\n",
            "E44 loss=156.97 acc=50.94\n",
            "E45 loss=155.88 acc=51.56\n",
            "E46 loss=156.54 acc=52.19\n",
            "E47 loss=158.28 acc=51.56\n",
            "E48 loss=157.64 acc=50.62\n",
            "E49 loss=155.21 acc=51.25\n",
            "E50 loss=157.31 acc=50.00\n",
            "E51 loss=156.30 acc=51.56\n",
            "E52 loss=160.91 acc=48.44\n",
            "E53 loss=157.03 acc=50.94\n",
            "E54 loss=153.13 acc=54.38\n",
            "E55 loss=157.56 acc=50.62\n",
            "E56 loss=154.80 acc=52.19\n",
            "E57 loss=155.35 acc=53.75\n",
            "E58 loss=155.28 acc=51.56\n",
            "E59 loss=154.22 acc=53.75\n",
            "E60 loss=154.24 acc=52.50\n",
            "E61 loss=156.52 acc=51.25\n",
            "E62 loss=155.17 acc=52.81\n",
            "E63 loss=156.15 acc=51.88\n",
            "E64 loss=155.47 acc=51.25\n",
            "E65 loss=155.66 acc=52.50\n",
            "E66 loss=153.47 acc=54.06\n",
            "E67 loss=152.31 acc=53.75\n",
            "E68 loss=154.41 acc=52.19\n",
            "E69 loss=155.52 acc=52.81\n",
            "E70 loss=155.36 acc=53.44\n",
            "E71 loss=154.70 acc=52.50\n",
            "E72 loss=154.55 acc=54.06\n",
            "E73 loss=154.28 acc=52.81\n",
            "E74 loss=155.15 acc=53.12\n",
            "E75 loss=154.38 acc=53.12\n",
            "E76 loss=156.72 acc=50.31\n",
            "E77 loss=153.05 acc=54.06\n",
            "E78 loss=156.06 acc=53.12\n",
            "E79 loss=154.21 acc=54.06\n",
            "E80 loss=154.85 acc=54.06\n",
            "E81 loss=155.78 acc=54.06\n",
            "E82 loss=152.99 acc=53.75\n",
            "E83 loss=157.59 acc=51.88\n",
            "E84 loss=154.42 acc=52.50\n",
            "E85 loss=158.81 acc=51.56\n",
            "E86 loss=155.88 acc=55.31\n",
            "E87 loss=155.21 acc=53.44\n",
            "E88 loss=155.15 acc=54.06\n",
            "E89 loss=156.11 acc=54.69\n",
            "E90 loss=154.10 acc=53.12\n",
            "E91 loss=156.91 acc=53.12\n",
            "E92 loss=157.85 acc=53.12\n",
            "E93 loss=154.57 acc=56.25\n",
            "E94 loss=157.22 acc=51.56\n",
            "E95 loss=154.16 acc=53.75\n",
            "E96 loss=153.79 acc=55.00\n",
            "E97 loss=156.74 acc=54.69\n",
            "E98 loss=155.16 acc=54.06\n",
            "E99 loss=158.94 acc=53.12\n"
          ]
        }
      ]
    },
    {
      "cell_type": "code",
      "source": [
        "exactitudRNN1, perdidaRNN1 = entrenar(modelRNN1, 100)"
      ],
      "metadata": {
        "colab": {
          "base_uri": "https://localhost:8080/"
        },
        "id": "uE5alYZ6q32d",
        "outputId": "aadff6f1-2767-41b2-e129-faeaa7b99ada"
      },
      "execution_count": null,
      "outputs": [
        {
          "output_type": "stream",
          "name": "stdout",
          "text": [
            "E 0 loss=229.02 acc=20.94\n",
            "E 1 loss=217.58 acc=26.56\n",
            "E 2 loss=210.21 acc=29.38\n",
            "E 3 loss=204.51 acc=34.38\n",
            "E 4 loss=200.35 acc=36.25\n",
            "E 5 loss=196.39 acc=38.75\n",
            "E 6 loss=193.64 acc=40.94\n",
            "E 7 loss=190.78 acc=42.19\n",
            "E 8 loss=187.45 acc=41.88\n",
            "E 9 loss=184.97 acc=42.19\n",
            "E10 loss=182.52 acc=42.81\n",
            "E11 loss=180.13 acc=43.75\n",
            "E12 loss=178.02 acc=44.06\n",
            "E13 loss=176.09 acc=44.06\n",
            "E14 loss=174.63 acc=44.38\n",
            "E15 loss=172.55 acc=45.00\n",
            "E16 loss=170.21 acc=46.25\n",
            "E17 loss=169.30 acc=45.94\n",
            "E18 loss=166.68 acc=47.19\n",
            "E19 loss=165.44 acc=47.19\n",
            "E20 loss=163.43 acc=47.81\n",
            "E21 loss=162.34 acc=48.12\n",
            "E22 loss=160.79 acc=48.44\n",
            "E23 loss=159.63 acc=49.38\n",
            "E24 loss=158.67 acc=48.75\n",
            "E25 loss=157.71 acc=48.44\n",
            "E26 loss=156.37 acc=49.38\n",
            "E27 loss=155.43 acc=49.06\n",
            "E28 loss=153.81 acc=50.94\n",
            "E29 loss=154.00 acc=50.94\n",
            "E30 loss=153.50 acc=49.38\n",
            "E31 loss=152.40 acc=50.31\n",
            "E32 loss=151.57 acc=50.31\n",
            "E33 loss=150.75 acc=52.50\n",
            "E34 loss=150.91 acc=50.94\n",
            "E35 loss=149.95 acc=51.88\n",
            "E36 loss=149.73 acc=51.25\n",
            "E37 loss=148.60 acc=52.19\n",
            "E38 loss=148.42 acc=52.19\n",
            "E39 loss=147.77 acc=53.12\n",
            "E40 loss=148.27 acc=52.81\n",
            "E41 loss=147.35 acc=52.50\n",
            "E42 loss=147.32 acc=53.75\n",
            "E43 loss=148.36 acc=53.44\n",
            "E44 loss=147.21 acc=53.12\n",
            "E45 loss=146.91 acc=53.75\n",
            "E46 loss=148.19 acc=53.44\n",
            "E47 loss=147.70 acc=53.75\n",
            "E48 loss=148.59 acc=52.19\n",
            "E49 loss=147.71 acc=54.38\n",
            "E50 loss=146.62 acc=54.38\n",
            "E51 loss=148.05 acc=54.69\n",
            "E52 loss=146.74 acc=55.31\n",
            "E53 loss=147.61 acc=54.69\n",
            "E54 loss=147.18 acc=54.06\n",
            "E55 loss=148.25 acc=55.94\n",
            "E56 loss=147.39 acc=55.31\n",
            "E57 loss=147.48 acc=55.00\n",
            "E58 loss=149.61 acc=54.69\n",
            "E59 loss=148.76 acc=53.75\n",
            "E60 loss=149.08 acc=55.00\n",
            "E61 loss=147.70 acc=54.69\n",
            "E62 loss=149.71 acc=54.69\n",
            "E63 loss=150.16 acc=55.62\n",
            "E64 loss=148.34 acc=55.00\n",
            "E65 loss=148.09 acc=55.94\n",
            "E66 loss=150.31 acc=54.06\n",
            "E67 loss=149.91 acc=54.69\n",
            "E68 loss=151.50 acc=55.00\n",
            "E69 loss=151.63 acc=54.38\n",
            "E70 loss=148.23 acc=56.88\n",
            "E71 loss=148.93 acc=55.62\n",
            "E72 loss=149.50 acc=55.94\n",
            "E73 loss=150.06 acc=55.00\n",
            "E74 loss=150.46 acc=55.94\n",
            "E75 loss=152.24 acc=55.31\n",
            "E76 loss=151.97 acc=56.25\n",
            "E77 loss=151.74 acc=56.25\n",
            "E78 loss=151.54 acc=55.94\n",
            "E79 loss=153.93 acc=55.31\n",
            "E80 loss=154.32 acc=55.31\n",
            "E81 loss=153.19 acc=55.31\n",
            "E82 loss=156.60 acc=55.94\n",
            "E83 loss=153.70 acc=55.94\n",
            "E84 loss=153.94 acc=55.31\n",
            "E85 loss=155.59 acc=55.00\n",
            "E86 loss=156.00 acc=55.94\n",
            "E87 loss=152.09 acc=56.25\n",
            "E88 loss=154.38 acc=54.38\n",
            "E89 loss=155.47 acc=55.31\n",
            "E90 loss=154.91 acc=56.88\n",
            "E91 loss=155.45 acc=55.31\n",
            "E92 loss=155.63 acc=56.88\n",
            "E93 loss=154.77 acc=56.56\n",
            "E94 loss=163.26 acc=55.62\n",
            "E95 loss=155.38 acc=56.88\n",
            "E96 loss=156.80 acc=57.19\n",
            "E97 loss=156.00 acc=57.50\n",
            "E98 loss=156.46 acc=57.19\n",
            "E99 loss=157.59 acc=55.62\n"
          ]
        }
      ]
    },
    {
      "cell_type": "code",
      "source": [
        "exactitudRNN2, perdidaRNN2 = entrenar(modelRNN2, 100)"
      ],
      "metadata": {
        "colab": {
          "base_uri": "https://localhost:8080/"
        },
        "id": "XDjmVckyEUTG",
        "outputId": "bf320266-f92f-4f2f-abd6-4b958b8b676b"
      },
      "execution_count": null,
      "outputs": [
        {
          "output_type": "stream",
          "name": "stdout",
          "text": [
            "E 0 loss=245.28 acc=6.88\n",
            "E 1 loss=239.52 acc=13.44\n",
            "E 2 loss=236.02 acc=16.88\n",
            "E 3 loss=233.74 acc=17.50\n",
            "E 4 loss=231.61 acc=18.12\n",
            "E 5 loss=230.14 acc=20.00\n",
            "E 6 loss=228.48 acc=20.62\n",
            "E 7 loss=227.49 acc=20.62\n",
            "E 8 loss=225.70 acc=21.25\n",
            "E 9 loss=224.25 acc=21.88\n",
            "E10 loss=223.24 acc=22.81\n",
            "E11 loss=222.37 acc=23.75\n",
            "E12 loss=221.33 acc=24.69\n",
            "E13 loss=220.43 acc=25.00\n",
            "E14 loss=219.43 acc=25.62\n",
            "E15 loss=218.63 acc=26.88\n",
            "E16 loss=217.51 acc=27.19\n",
            "E17 loss=216.68 acc=26.88\n",
            "E18 loss=215.62 acc=27.50\n",
            "E19 loss=214.67 acc=28.44\n",
            "E20 loss=213.92 acc=29.38\n",
            "E21 loss=213.30 acc=29.06\n",
            "E22 loss=212.57 acc=29.06\n",
            "E23 loss=211.98 acc=30.31\n",
            "E24 loss=211.25 acc=30.31\n",
            "E25 loss=210.76 acc=31.25\n",
            "E26 loss=210.20 acc=32.19\n",
            "E27 loss=208.99 acc=30.94\n",
            "E28 loss=208.72 acc=30.62\n",
            "E29 loss=207.76 acc=31.56\n",
            "E30 loss=207.20 acc=31.56\n",
            "E31 loss=206.57 acc=31.56\n",
            "E32 loss=205.89 acc=31.25\n",
            "E33 loss=205.50 acc=32.19\n",
            "E34 loss=204.50 acc=33.12\n",
            "E35 loss=204.33 acc=31.56\n",
            "E36 loss=203.38 acc=31.88\n",
            "E37 loss=203.30 acc=32.50\n",
            "E38 loss=202.81 acc=31.88\n",
            "E39 loss=202.25 acc=33.75\n",
            "E40 loss=201.52 acc=34.06\n",
            "E41 loss=201.25 acc=33.75\n",
            "E42 loss=200.60 acc=33.75\n",
            "E43 loss=200.02 acc=33.75\n",
            "E44 loss=199.84 acc=35.31\n",
            "E45 loss=199.64 acc=33.75\n",
            "E46 loss=198.87 acc=35.62\n",
            "E47 loss=198.56 acc=35.62\n",
            "E48 loss=198.01 acc=35.31\n",
            "E49 loss=197.60 acc=35.31\n",
            "E50 loss=197.35 acc=35.94\n",
            "E51 loss=197.04 acc=35.62\n",
            "E52 loss=196.34 acc=36.88\n",
            "E53 loss=196.16 acc=36.25\n",
            "E54 loss=195.81 acc=36.56\n",
            "E55 loss=195.50 acc=37.50\n",
            "E56 loss=195.40 acc=36.25\n",
            "E57 loss=194.47 acc=38.12\n",
            "E58 loss=193.98 acc=39.06\n",
            "E59 loss=194.04 acc=37.50\n",
            "E60 loss=193.80 acc=37.50\n",
            "E61 loss=193.58 acc=37.81\n",
            "E62 loss=193.10 acc=37.81\n",
            "E63 loss=192.45 acc=37.50\n",
            "E64 loss=192.27 acc=37.81\n",
            "E65 loss=192.56 acc=39.06\n",
            "E66 loss=191.50 acc=39.38\n",
            "E67 loss=191.45 acc=38.44\n",
            "E68 loss=191.07 acc=38.12\n",
            "E69 loss=191.09 acc=38.12\n",
            "E70 loss=191.48 acc=38.75\n",
            "E71 loss=191.40 acc=38.75\n",
            "E72 loss=190.99 acc=38.75\n",
            "E73 loss=189.97 acc=39.06\n",
            "E74 loss=189.51 acc=40.00\n",
            "E75 loss=189.97 acc=39.06\n",
            "E76 loss=189.29 acc=39.06\n",
            "E77 loss=189.36 acc=39.38\n",
            "E78 loss=188.80 acc=39.69\n",
            "E79 loss=188.41 acc=39.06\n",
            "E80 loss=188.22 acc=38.75\n",
            "E81 loss=187.81 acc=39.69\n",
            "E82 loss=187.40 acc=40.00\n",
            "E83 loss=187.71 acc=39.06\n",
            "E84 loss=187.68 acc=39.69\n",
            "E85 loss=187.02 acc=40.00\n",
            "E86 loss=187.20 acc=40.94\n",
            "E87 loss=186.89 acc=39.69\n",
            "E88 loss=187.32 acc=40.00\n",
            "E89 loss=186.59 acc=40.00\n",
            "E90 loss=186.21 acc=40.00\n",
            "E91 loss=186.10 acc=40.00\n",
            "E92 loss=186.06 acc=39.06\n",
            "E93 loss=186.20 acc=39.38\n",
            "E94 loss=185.81 acc=40.00\n",
            "E95 loss=185.63 acc=39.69\n",
            "E96 loss=185.78 acc=39.06\n",
            "E97 loss=185.80 acc=39.38\n",
            "E98 loss=185.13 acc=39.38\n",
            "E99 loss=185.63 acc=39.69\n"
          ]
        }
      ]
    },
    {
      "cell_type": "code",
      "source": [
        "import matplotlib.pyplot as plt\n",
        "plt.title('Exactitud')\n",
        "plt.plot(exactitudCNN, label = \"CNN\")\n",
        "plt.plot(exactitudRNN1, label = \"RNN1\")\n",
        "plt.plot(exactitudRNN2, label = \"RNN2\")\n",
        "plt.legend()\n",
        "plt.show()"
      ],
      "metadata": {
        "colab": {
          "base_uri": "https://localhost:8080/",
          "height": 281
        },
        "id": "5bVj-lTU2M8g",
        "outputId": "2e534221-4295-4164-969d-74529081881e"
      },
      "execution_count": null,
      "outputs": [
        {
          "output_type": "display_data",
          "data": {
            "text/plain": [
              "<Figure size 432x288 with 1 Axes>"
            ],
            "image/png": "[encoded data removed]"
          },
          "metadata": {
            "needs_background": "light"
          }
        }
      ]
    },
    {
      "cell_type": "markdown",
      "source": [
        "Vemos que la red recurrente con el número de parámetros original tiene el mejor rendimiento, seguida de la convolucional con solo una capa, mientras qu muy por debajo de las dos se encuentra la recurrente con el número de parámetros diminuido.\n",
        "\n",
        "Podemos concluir de aquí que el poder de la red recurrente se encuentra justamente en los parámetros ocultos que se encargan de transmitir la dependencia temporal de los cuadros."
      ],
      "metadata": {
        "id": "N51RRWdkBL9u"
      }
    },
    {
      "cell_type": "code",
      "source": [
        "plt.title('Pérdida')\n",
        "plt.plot(perdidaCNN, label = \"CNN\")\n",
        "plt.plot(perdidaRNN1, label = \"RNN1\")\n",
        "plt.plot(perdidaRNN2, label = \"RNN2\")\n",
        "plt.legend()\n",
        "plt.show()"
      ],
      "metadata": {
        "colab": {
          "base_uri": "https://localhost:8080/",
          "height": 281
        },
        "id": "AOLKIQVi2j7E",
        "outputId": "a5ea376a-8f0b-488b-a968-6f3f341343b3"
      },
      "execution_count": null,
      "outputs": [
        {
          "output_type": "display_data",
          "data": {
            "text/plain": [
              "<Figure size 432x288 with 1 Axes>"
            ],
            "image/png": "[encoded data removed]"
          },
          "metadata": {
            "needs_background": "light"
          }
        }
      ]
    },
    {
      "cell_type": "markdown",
      "source": [
        "Si nos fijamos en la pérdia, observamos que el patrón antes mencionado (RNN2 mejor que RNN1 mejor que CNN) se mantiene, sin embargo alGo cuirioso empieza a suceder con la red recurrente RNN2: la pérdida comienza a subir después de su mínimo (al rededor de la época 40). Esto puede ser porque la tasa de aprendizaje definida al principio es muy grande para este punto, y en vez de converger, el modelo empieza a \"salirse\" del mínimo. Para probar la hipótesis tendríamos que escoger una taza de aprendizaje más pequeña e iterar durante más épocas."
      ],
      "metadata": {
        "id": "1owxbTZdCEk2"
      }
    },
    {
      "cell_type": "code",
      "source": [],
      "metadata": {
        "id": "ta1hsXjw27tg"
      },
      "execution_count": null,
      "outputs": []
    }
  ],
  "metadata": {
    "kernelspec": {
      "display_name": "Python 3 (ipykernel)",
      "language": "python",
      "name": "python3"
    },
    "language_info": {
      "codemirror_mode": {
        "name": "ipython",
        "version": 3
      },
      "file_extension": ".py",
      "mimetype": "text/x-python",
      "name": "python",
      "nbconvert_exporter": "python",
      "pygments_lexer": "ipython3",
      "version": "3.10.6"
    },
    "colab": {
      "provenance": [],
      "collapsed_sections": [],
      "include_colab_link": true
    },
    "widgets": {
      "application/vnd.jupyter.widget-state+json": {
        "b885a84a65204210b688540bd5430370": {
          "model_module": "@jupyter-widgets/controls",
          "model_name": "HBoxModel",
          "model_module_version": "1.5.0",
          "state": {
            "_dom_classes": [],
            "_model_module": "@jupyter-widgets/controls",
            "_model_module_version": "1.5.0",
            "_model_name": "HBoxModel",
            "_view_count": null,
            "_view_module": "@jupyter-widgets/controls",
            "_view_module_version": "1.5.0",
            "_view_name": "HBoxView",
            "box_style": "",
            "children": [
              "IPY_MODEL_4d15fc4c5a5e4bdbb25bb01ab864475d",
              "IPY_MODEL_fcded925ae5540588658e89f79ecc5eb",
              "IPY_MODEL_cd3fc94202c8402e8742ade9e982d159"
            ],
            "layout": "IPY_MODEL_a6899144da6244b4abe84febce912a1e"
          }
        },
        "4d15fc4c5a5e4bdbb25bb01ab864475d": {
          "model_module": "@jupyter-widgets/controls",
          "model_name": "HTMLModel",
          "model_module_version": "1.5.0",
          "state": {
            "_dom_classes": [],
            "_model_module": "@jupyter-widgets/controls",
            "_model_module_version": "1.5.0",
            "_model_name": "HTMLModel",
            "_view_count": null,
            "_view_module": "@jupyter-widgets/controls",
            "_view_module_version": "1.5.0",
            "_view_name": "HTMLView",
            "description": "",
            "description_tooltip": null,
            "layout": "IPY_MODEL_1d758f033df1477ba0335e7509ff04e6",
            "placeholder": "​",
            "style": "IPY_MODEL_4ebc5ee02fd24669a067fe8002239869",
            "value": "100%"
          }
        },
        "fcded925ae5540588658e89f79ecc5eb": {
          "model_module": "@jupyter-widgets/controls",
          "model_name": "FloatProgressModel",
          "model_module_version": "1.5.0",
          "state": {
            "_dom_classes": [],
            "_model_module": "@jupyter-widgets/controls",
            "_model_module_version": "1.5.0",
            "_model_name": "FloatProgressModel",
            "_view_count": null,
            "_view_module": "@jupyter-widgets/controls",
            "_view_module_version": "1.5.0",
            "_view_name": "ProgressView",
            "bar_style": "success",
            "description": "",
            "description_tooltip": null,
            "layout": "IPY_MODEL_2dde5eaa25504081b35b0076b862c5ea",
            "max": 53436566,
            "min": 0,
            "orientation": "horizontal",
            "style": "IPY_MODEL_335e5dda01fd4969b359501a98a5e2fe",
            "value": 53436566
          }
        },
        "cd3fc94202c8402e8742ade9e982d159": {
          "model_module": "@jupyter-widgets/controls",
          "model_name": "HTMLModel",
          "model_module_version": "1.5.0",
          "state": {
            "_dom_classes": [],
            "_model_module": "@jupyter-widgets/controls",
            "_model_module_version": "1.5.0",
            "_model_name": "HTMLModel",
            "_view_count": null,
            "_view_module": "@jupyter-widgets/controls",
            "_view_module_version": "1.5.0",
            "_view_name": "HTMLView",
            "description": "",
            "description_tooltip": null,
            "layout": "IPY_MODEL_4820c1ab56dd428bb4b51e1dfbc731b2",
            "placeholder": "​",
            "style": "IPY_MODEL_b6ebe62ee5d14f32a56297f41731b9cc",
            "value": " 53436566/53436566 [00:06&lt;00:00, 4406147.17it/s]"
          }
        },
        "a6899144da6244b4abe84febce912a1e": {
          "model_module": "@jupyter-widgets/base",
          "model_name": "LayoutModel",
          "model_module_version": "1.2.0",
          "state": {
            "_model_module": "@jupyter-widgets/base",
            "_model_module_version": "1.2.0",
            "_model_name": "LayoutModel",
            "_view_count": null,
            "_view_module": "@jupyter-widgets/base",
            "_view_module_version": "1.2.0",
            "_view_name": "LayoutView",
            "align_content": null,
            "align_items": null,
            "align_self": null,
            "border": null,
            "bottom": null,
            "display": null,
            "flex": null,
            "flex_flow": null,
            "grid_area": null,
            "grid_auto_columns": null,
            "grid_auto_flow": null,
            "grid_auto_rows": null,
            "grid_column": null,
            "grid_gap": null,
            "grid_row": null,
            "grid_template_areas": null,
            "grid_template_columns": null,
            "grid_template_rows": null,
            "height": null,
            "justify_content": null,
            "justify_items": null,
            "left": null,
            "margin": null,
            "max_height": null,
            "max_width": null,
            "min_height": null,
            "min_width": null,
            "object_fit": null,
            "object_position": null,
            "order": null,
            "overflow": null,
            "overflow_x": null,
            "overflow_y": null,
            "padding": null,
            "right": null,
            "top": null,
            "visibility": null,
            "width": null
          }
        },
        "1d758f033df1477ba0335e7509ff04e6": {
          "model_module": "@jupyter-widgets/base",
          "model_name": "LayoutModel",
          "model_module_version": "1.2.0",
          "state": {
            "_model_module": "@jupyter-widgets/base",
            "_model_module_version": "1.2.0",
            "_model_name": "LayoutModel",
            "_view_count": null,
            "_view_module": "@jupyter-widgets/base",
            "_view_module_version": "1.2.0",
            "_view_name": "LayoutView",
            "align_content": null,
            "align_items": null,
            "align_self": null,
            "border": null,
            "bottom": null,
            "display": null,
            "flex": null,
            "flex_flow": null,
            "grid_area": null,
            "grid_auto_columns": null,
            "grid_auto_flow": null,
            "grid_auto_rows": null,
            "grid_column": null,
            "grid_gap": null,
            "grid_row": null,
            "grid_template_areas": null,
            "grid_template_columns": null,
            "grid_template_rows": null,
            "height": null,
            "justify_content": null,
            "justify_items": null,
            "left": null,
            "margin": null,
            "max_height": null,
            "max_width": null,
            "min_height": null,
            "min_width": null,
            "object_fit": null,
            "object_position": null,
            "order": null,
            "overflow": null,
            "overflow_x": null,
            "overflow_y": null,
            "padding": null,
            "right": null,
            "top": null,
            "visibility": null,
            "width": null
          }
        },
        "4ebc5ee02fd24669a067fe8002239869": {
          "model_module": "@jupyter-widgets/controls",
          "model_name": "DescriptionStyleModel",
          "model_module_version": "1.5.0",
          "state": {
            "_model_module": "@jupyter-widgets/controls",
            "_model_module_version": "1.5.0",
            "_model_name": "DescriptionStyleModel",
            "_view_count": null,
            "_view_module": "@jupyter-widgets/base",
            "_view_module_version": "1.2.0",
            "_view_name": "StyleView",
            "description_width": ""
          }
        },
        "2dde5eaa25504081b35b0076b862c5ea": {
          "model_module": "@jupyter-widgets/base",
          "model_name": "LayoutModel",
          "model_module_version": "1.2.0",
          "state": {
            "_model_module": "@jupyter-widgets/base",
            "_model_module_version": "1.2.0",
            "_model_name": "LayoutModel",
            "_view_count": null,
            "_view_module": "@jupyter-widgets/base",
            "_view_module_version": "1.2.0",
            "_view_name": "LayoutView",
            "align_content": null,
            "align_items": null,
            "align_self": null,
            "border": null,
            "bottom": null,
            "display": null,
            "flex": null,
            "flex_flow": null,
            "grid_area": null,
            "grid_auto_columns": null,
            "grid_auto_flow": null,
            "grid_auto_rows": null,
            "grid_column": null,
            "grid_gap": null,
            "grid_row": null,
            "grid_template_areas": null,
            "grid_template_columns": null,
            "grid_template_rows": null,
            "height": null,
            "justify_content": null,
            "justify_items": null,
            "left": null,
            "margin": null,
            "max_height": null,
            "max_width": null,
            "min_height": null,
            "min_width": null,
            "object_fit": null,
            "object_position": null,
            "order": null,
            "overflow": null,
            "overflow_x": null,
            "overflow_y": null,
            "padding": null,
            "right": null,
            "top": null,
            "visibility": null,
            "width": null
          }
        },
        "335e5dda01fd4969b359501a98a5e2fe": {
          "model_module": "@jupyter-widgets/controls",
          "model_name": "ProgressStyleModel",
          "model_module_version": "1.5.0",
          "state": {
            "_model_module": "@jupyter-widgets/controls",
            "_model_module_version": "1.5.0",
            "_model_name": "ProgressStyleModel",
            "_view_count": null,
            "_view_module": "@jupyter-widgets/base",
            "_view_module_version": "1.2.0",
            "_view_name": "StyleView",
            "bar_color": null,
            "description_width": ""
          }
        },
        "4820c1ab56dd428bb4b51e1dfbc731b2": {
          "model_module": "@jupyter-widgets/base",
          "model_name": "LayoutModel",
          "model_module_version": "1.2.0",
          "state": {
            "_model_module": "@jupyter-widgets/base",
            "_model_module_version": "1.2.0",
            "_model_name": "LayoutModel",
            "_view_count": null,
            "_view_module": "@jupyter-widgets/base",
            "_view_module_version": "1.2.0",
            "_view_name": "LayoutView",
            "align_content": null,
            "align_items": null,
            "align_self": null,
            "border": null,
            "bottom": null,
            "display": null,
            "flex": null,
            "flex_flow": null,
            "grid_area": null,
            "grid_auto_columns": null,
            "grid_auto_flow": null,
            "grid_auto_rows": null,
            "grid_column": null,
            "grid_gap": null,
            "grid_row": null,
            "grid_template_areas": null,
            "grid_template_columns": null,
            "grid_template_rows": null,
            "height": null,
            "justify_content": null,
            "justify_items": null,
            "left": null,
            "margin": null,
            "max_height": null,
            "max_width": null,
            "min_height": null,
            "min_width": null,
            "object_fit": null,
            "object_position": null,
            "order": null,
            "overflow": null,
            "overflow_x": null,
            "overflow_y": null,
            "padding": null,
            "right": null,
            "top": null,
            "visibility": null,
            "width": null
          }
        },
        "b6ebe62ee5d14f32a56297f41731b9cc": {
          "model_module": "@jupyter-widgets/controls",
          "model_name": "DescriptionStyleModel",
          "model_module_version": "1.5.0",
          "state": {
            "_model_module": "@jupyter-widgets/controls",
            "_model_module_version": "1.5.0",
            "_model_name": "DescriptionStyleModel",
            "_view_count": null,
            "_view_module": "@jupyter-widgets/base",
            "_view_module_version": "1.2.0",
            "_view_name": "StyleView",
            "description_width": ""
          }
        }
      }
    },
    "accelerator": "GPU",
    "gpuClass": "standard"
  },
  "nbformat": 4,
  "nbformat_minor": 0
}