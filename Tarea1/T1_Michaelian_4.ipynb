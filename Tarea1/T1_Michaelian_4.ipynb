{
  "cells": [
    {
      "cell_type": "markdown",
      "metadata": {
        "id": "view-in-github",
        "colab_type": "text"
      },
      "source": [
        "<a href=\"https://colab.research.google.com/github/SofiMich/DL/blob/main/T1_Michaelian_4.ipynb\" target=\"_parent\"><img src=\"https://colab.research.google.com/assets/colab-badge.svg\" alt=\"Open In Colab\"/></a>"
      ]
    },
    {
      "cell_type": "markdown",
      "source": [
        "# 4. Red completamente conectada con PyTorch\n",
        "Me basaré en el notebook que vimos en clase para este mismo conjunto de datos con una red ompletamente conectada y cambiaré algunas cosas.\n",
        "\n",
        "En este ejercicio vamos a clasificar imágenes de ropa usando la ase de datos [FashionMNIST]. Para esto PyTorch también como en el ejemplo de los dígtos, nos provee de una clase.\n"
      ],
      "metadata": {
        "id": "bD3U3xaR53sX"
      }
    },
    {
      "cell_type": "markdown",
      "source": [
        "### Carga de bibliotecas"
      ],
      "metadata": {
        "id": "uPfpJb4ZZHc0"
      }
    },
    {
      "cell_type": "code",
      "execution_count": 18,
      "metadata": {
        "id": "HKREWSf04w4E",
        "outputId": "08b98e90-dbfa-4cdc-8c60-66955de766cf",
        "colab": {
          "base_uri": "https://localhost:8080/"
        }
      },
      "outputs": [
        {
          "output_type": "stream",
          "name": "stdout",
          "text": [
            "Looking in indexes: https://pypi.org/simple, https://us-python.pkg.dev/colab-wheels/public/simple/\n",
            "Requirement already satisfied: torchinfo in /usr/local/lib/python3.7/dist-packages (1.7.1)\n"
          ]
        }
      ],
      "source": [
        "# biblioteca para inspeccionar arquitecturas\n",
        "# https://github.com/tyleryep/torchinfo\n",
        "!pip install torchinfo"
      ]
    },
    {
      "cell_type": "markdown",
      "metadata": {
        "id": "kRCHKhu04w4H"
      },
      "source": [
        "Importamos bibliotecas:"
      ]
    },
    {
      "cell_type": "code",
      "execution_count": 19,
      "metadata": {
        "id": "Ny0L2LzogTN-"
      },
      "outputs": [],
      "source": [
        "# funciones aleatorias\n",
        "import random\n",
        "# tomar n elementos de una secuencia\n",
        "from itertools import islice as take\n",
        "\n",
        "# gráficas\n",
        "import matplotlib.pyplot as plt\n",
        "# arreglos multidimensionales\n",
        "import numpy as np\n",
        "# redes neuronales\n",
        "import torch\n",
        "import torch.nn as nn\n",
        "import torch.nn.functional as F\n",
        "import torch.optim as optim\n",
        "import torchvision\n",
        "import torchvision.transforms as T\n",
        "# procesamiento de imágenes\n",
        "from skimage import io\n",
        "# redes neuronales\n",
        "from torch.utils.data import DataLoader\n",
        "# inspección de arquitectura\n",
        "from torchinfo import summary\n",
        "# barras de progreso\n",
        "from tqdm.auto import trange"
      ]
    },
    {
      "cell_type": "markdown",
      "metadata": {
        "id": "LlI00Vnj4w4I"
      },
      "source": [
        "### Visualización y otros:"
      ]
    },
    {
      "cell_type": "code",
      "execution_count": 20,
      "metadata": {
        "id": "mNFNu-dK4w4I"
      },
      "outputs": [],
      "source": [
        "# directorio de datos\n",
        "DATA_DIR = '../data'\n",
        "\n",
        "# tamaño del lote\n",
        "BATCH_SIZE = 32\n",
        "# filas y columnas de la regilla de imágenes\n",
        "ROWS, COLS = 4, 8\n",
        "\n",
        "# Para visualizar los datos:\n",
        "\n",
        "def display_grid(xs, titles, rows, cols, figsize=(12, 6)):\n",
        "    \"\"\"Displays examples in a grid.\"\"\"\n",
        "    fig, ax = plt.subplots(rows, cols, figsize=figsize)\n",
        "    i = 0\n",
        "    for r in range(rows):\n",
        "        for c in range(cols):\n",
        "            ax[r, c].imshow(xs[i], cmap='gray')\n",
        "            ax[r, c].set_title(titles[i])\n",
        "            ax[r, c].set_xticklabels([])\n",
        "            ax[r, c].set_yticklabels([])\n",
        "            i += 1\n",
        "    fig.tight_layout()\n",
        "    plt.show()\n",
        "\n",
        "\n",
        "def display_batch(x, titles, rows, cols, figsize=(12, 6)):\n",
        "    \"\"\"Displays a batch of processed examples in a grid.\"\"\"\n",
        "    # denormalizamos [0, 1] => [0, 255]\n",
        "    x *= 255\n",
        "    # rotamos canales (C x H x W) => (H x W x C)\n",
        "    x = x.permute(0, 2, 3, 1)\n",
        "    # convertimos a entero\n",
        "    x = (x.numpy()).astype(np.uint8)\n",
        "    # aplanamos canal\n",
        "    x = x.reshape(*x.shape[:3])\n",
        "    # desplegamos\n",
        "    display_grid(x, titles, rows, cols, figsize)\n",
        "\n",
        "# Para geenar los pseudoaleatorios desde una semilla y poder reproducir los resultados\n",
        "def set_seed(seed=0):\n",
        "    \"\"\"Initializes pseudo-random number generators.\"\"\"\n",
        "    random.seed(seed)\n",
        "    np.random.seed(seed)\n",
        "    torch.manual_seed(seed)\n",
        "\n",
        "    \n",
        "# reproducibilidad\n",
        "set_seed()"
      ]
    },
    {
      "cell_type": "markdown",
      "metadata": {
        "id": "MjKxreAkoZeT"
      },
      "source": [
        "## Datos\n",
        "La base de datos está compuesa por imágenes en escala de grises de 28 × 28 píxeles que contienen fotos de ropa (como se verá en la imagen más abajo)."
      ]
    },
    {
      "cell_type": "code",
      "source": [
        "# directorio de datos\n",
        "DATA_DIR = '../data'\n",
        "\n",
        "# tamaño del lote\n",
        "BATCH_SIZE = 32\n",
        "# filas y columnas de la regilla de imágenes\n",
        "ROWS, COLS = 4, 8\n",
        "\n",
        "\n",
        "def display_grid(xs, titles, rows, cols, figsize=(12, 6)):\n",
        "    \"\"\"Displays examples in a grid.\"\"\"\n",
        "    fig, ax = plt.subplots(rows, cols, figsize=figsize)\n",
        "    i = 0\n",
        "    for r in range(rows):\n",
        "        for c in range(cols):\n",
        "            ax[r, c].imshow(xs[i].numpy().squeeze(), cmap='gray')\n",
        "            ax[r, c].set_title(titles[i])\n",
        "            ax[r, c].set_xticklabels([])\n",
        "            ax[r, c].set_yticklabels([])\n",
        "            i += 1\n",
        "    fig.tight_layout()\n",
        "    plt.show()\n",
        "\n",
        "\n",
        "def display_batch(x, titles, rows, cols, figsize=(12, 6)):\n",
        "    \"\"\"Displays a batch of processed examples in a grid.\"\"\"\n",
        "    # denormalizamos [0, 1] => [0, 255]\n",
        "    x *= 255\n",
        "    # rotamos canales (C x H x W) => (H x W x C)\n",
        "    x = x.permute(0, 2, 3, 1)\n",
        "    # convertimos a entero\n",
        "    x = (x.numpy()).astype(np.uint8)\n",
        "    # aplanamos canal\n",
        "    x = x.reshape(*x.shape[:3])\n",
        "    # desplegamos\n",
        "    display_grid(x, titles, rows, cols, figsize)\n",
        "\n",
        "    \n",
        "def set_seed(seed=0):\n",
        "    \"\"\"Initializes pseudo-random number generators.\"\"\"\n",
        "    random.seed(seed)\n",
        "    np.random.seed(seed)\n",
        "    torch.manual_seed(seed)\n",
        "\n",
        "    \n",
        "# reproducibilidad\n",
        "set_seed()"
      ],
      "metadata": {
        "id": "2adDc99NcR-1"
      },
      "execution_count": 21,
      "outputs": []
    },
    {
      "cell_type": "code",
      "source": [
        "trn_ds = torchvision.datasets.FashionMNIST(\n",
        "    # directorio de datos\n",
        "    root = './data/FashionMNIST',\n",
        "    # subconjunto de entrenamiento\n",
        "    train=True,\n",
        "    # descargar el conjunto\n",
        "    download = True,\n",
        "    # convertimos a tensor\n",
        "    transform = T.Compose([\n",
        "        T.ToTensor()                                 \n",
        "    ])\n",
        ")\n",
        "\n",
        "tst_ds = torchvision.datasets.FashionMNIST(\n",
        "    root = './data/FashionMNIST',\n",
        "    train = False,\n",
        "    download = True,\n",
        "    transform = T.Compose([\n",
        "        T.ToTensor()                                 \n",
        "    ])\n",
        ")\n"
      ],
      "metadata": {
        "id": "DCh6WGNqcX6v"
      },
      "execution_count": 22,
      "outputs": []
    },
    {
      "cell_type": "markdown",
      "source": [
        "Una vez descargados los datos, vamos a visualizar un lote:"
      ],
      "metadata": {
        "id": "pxduwL1uaEvi"
      }
    },
    {
      "cell_type": "code",
      "execution_count": 39,
      "metadata": {
        "id": "-MAFFsRr4w4M",
        "outputId": "59108665-f53d-41e0-eb11-7a6847aa9e68",
        "colab": {
          "base_uri": "https://localhost:8080/",
          "height": 459
        }
      },
      "outputs": [
        {
          "output_type": "stream",
          "name": "stdout",
          "text": [
            "images[0] shape=torch.Size([1, 28, 28]) dtype=torch.float32\n"
          ]
        },
        {
          "output_type": "display_data",
          "data": {
            "text/plain": [
              "<Figure size 864x432 with 32 Axes>"
            ],
            "image/png": "[encoded data removed]"
          },
          "metadata": {
            "needs_background": "light"
          }
        }
      ],
      "source": [
        "# cargamos algunas imágenes\n",
        "images, labels = [], []\n",
        "for i in range(BATCH_SIZE):\n",
        "    x, y = trn_ds[i]\n",
        "    images.append(x)\n",
        "    labels.append(y)\n",
        "\n",
        "# desplegamos\n",
        "print(f'images[0] shape={images[0].shape} dtype={images[0].dtype}')\n",
        "titles = [str(y) for y in labels]\n",
        "display_grid(images, titles, ROWS, COLS)"
      ]
    },
    {
      "cell_type": "markdown",
      "metadata": {
        "id": "h3G5GJxg4w4N"
      },
      "source": [
        "Creamos nuestros cargadores de datos:"
      ]
    },
    {
      "cell_type": "code",
      "execution_count": 24,
      "metadata": {
        "id": "QXMXXc9DPgqY"
      },
      "outputs": [],
      "source": [
        "#Para el conjunto de entrenamiento\n",
        "trn_dl = DataLoader(\n",
        "    # subconjunto\n",
        "    trn_ds,\n",
        "    # tamaño del lote\n",
        "    batch_size=BATCH_SIZE,\n",
        "    # desordenar\n",
        "    shuffle=True\n",
        ")\n",
        "\n",
        "#Para el subconjunto de prueba\n",
        "tst_dl = DataLoader(\n",
        "    # subconjunto\n",
        "    tst_ds,\n",
        "    # tamaño del lote\n",
        "    batch_size=BATCH_SIZE,\n",
        "    # desordenar\n",
        "    shuffle=True\n",
        ")"
      ]
    },
    {
      "cell_type": "markdown",
      "metadata": {
        "id": "NwoU-cDu4w4Q"
      },
      "source": [
        "## Modelos\n",
        "Vamos a entrenar 3 variantes de arquitecturas:\n",
        "1. La sugerida en la clase\n",
        "2. Cambiando el número de neuronas de cada capa completamente conectada\n",
        "3. Cambiando la función de activación por una ReLU"
      ]
    },
    {
      "cell_type": "markdown",
      "metadata": {
        "id": "x-R8H7Xe4w4Q"
      },
      "source": [
        "### 1: Reshape --> FC 128 --> Sigm --> FC 10 --> Softmax"
      ]
    },
    {
      "cell_type": "code",
      "execution_count": 25,
      "metadata": {
        "id": "kQCnvAgG4w4R"
      },
      "outputs": [],
      "source": [
        "# Modelo 1\n",
        "class FCN1(nn.Module):\n",
        "\n",
        "    # inicializador\n",
        "    def __init__(self):\n",
        "\n",
        "        # inicilización del objeto padre, obligatorio\n",
        "        super().__init__()\n",
        "\n",
        "        # tamaño de las capas\n",
        "        self.I = 1 * 28 * 28\n",
        "        FC1, FC2 = 128, 10\n",
        "\n",
        "        # definición de capas\n",
        "        self.cls = nn.Sequential(\n",
        "            # aplanamos la matriz de píxeles a un vector\n",
        "            # [N, 1, 28, 28] => [N, 1x28x28]\n",
        "            nn.Flatten(),\n",
        "            # fc1\n",
        "            # [N, 1x28x28] => [N, 128]\n",
        "            nn.Linear(self.I, FC1),\n",
        "            nn.Sigmoid(),\n",
        "            # fc2\n",
        "            # [N, 128] => [N, 10]\n",
        "            nn.Linear(FC1, FC2)\n",
        "        )\n",
        "\n",
        "    # método para inferencia\n",
        "    def forward(self, x):\n",
        "        # [N, 1x28x28]\n",
        "        x = self.cls(x)\n",
        "        return x"
      ]
    },
    {
      "cell_type": "markdown",
      "source": [
        "### 2: Reshape --> FC 128 --> Sigm --> FC 64 --> Sigm --> FC 10 --> Softmax"
      ],
      "metadata": {
        "id": "dkmcBgCaF63M"
      }
    },
    {
      "cell_type": "code",
      "source": [
        "# Modelo 2\n",
        "class FCN2(nn.Module):\n",
        "\n",
        "    # inicializador\n",
        "    def __init__(self):\n",
        "\n",
        "        # inicilización del objeto padre, obligatorio\n",
        "        super().__init__()\n",
        "\n",
        "        # tamaño de las capas\n",
        "        self.I = 1 * 28 * 28\n",
        "        FC1, FC2, FC3 = 128, 64,10\n",
        "\n",
        "        # definición de capas\n",
        "        self.cls = nn.Sequential(\n",
        "            # aplanamos la matriz de píxeles a un vector\n",
        "            # [N, 1, 28, 28] => [N, 1x28x28]\n",
        "            nn.Flatten(),\n",
        "\n",
        "            # fc1\n",
        "            # [N, 1x28x28] => [N, 128]\n",
        "            nn.Linear(self.I, FC1),\n",
        "            nn.Sigmoid(),\n",
        "\n",
        "            # fc2\n",
        "            # [N, 128] => [N, 64]\n",
        "            nn.Linear(FC1, FC2),\n",
        "            nn.Sigmoid(),\n",
        "\n",
        "            # fc3\n",
        "            # [N, 64] => [N, 10]\n",
        "            nn.Linear(FC2, FC3)\n",
        "        )\n",
        "\n",
        "    # método para inferencia\n",
        "    def forward(self, x):\n",
        "        # [N, 1x28x28]\n",
        "        x = self.cls(x)\n",
        "        return x"
      ],
      "metadata": {
        "id": "JGevbkdAGJQ_"
      },
      "execution_count": 26,
      "outputs": []
    },
    {
      "cell_type": "markdown",
      "source": [
        "### 3: Reshape --> FC 128 --> ReLU --> FC 10 --> Softmax"
      ],
      "metadata": {
        "id": "B9lkATiyMYDH"
      }
    },
    {
      "cell_type": "code",
      "source": [
        "# Modelo 3\n",
        "class FCN3(nn.Module):\n",
        "\n",
        "    # inicializador\n",
        "    def __init__(self):\n",
        "\n",
        "        # inicilización del objeto padre, obligatorio\n",
        "        super().__init__()\n",
        "\n",
        "        # tamaño de las capas\n",
        "        self.I = 1 * 28 * 28\n",
        "        FC1, FC2 = 128, 10\n",
        "\n",
        "        # definición de capas\n",
        "        self.cls = nn.Sequential(\n",
        "            # aplanamos la matriz de píxeles a un vector\n",
        "            # [N, 1, 28, 28] => [N, 1x28x28]\n",
        "            nn.Flatten(),\n",
        "\n",
        "            # fc1\n",
        "            # [N, 1x28x28] => [N, 128]\n",
        "            nn.Linear(self.I, FC1),\n",
        "            nn.ReLU(),\n",
        "            \n",
        "            # fc2\n",
        "            # [N, 64] => [N, 10]\n",
        "            nn.Linear(FC1, FC2)\n",
        "        )\n",
        "\n",
        "    # método para inferencia\n",
        "    def forward(self, x):\n",
        "        # [N, 1x28x28]\n",
        "        x = self.cls(x)\n",
        "        return x"
      ],
      "metadata": {
        "id": "IWSQVss9MmyI"
      },
      "execution_count": 27,
      "outputs": []
    },
    {
      "cell_type": "markdown",
      "metadata": {
        "id": "oZo4lWFy4w4S"
      },
      "source": [
        "### Instanciamos e inspeccionamos los modelos:"
      ]
    },
    {
      "cell_type": "markdown",
      "metadata": {
        "id": "sLV5WHfC4w4U"
      },
      "source": [
        "Modelo 1"
      ]
    },
    {
      "cell_type": "code",
      "execution_count": 28,
      "metadata": {
        "id": "yk84dPDL4w4V",
        "outputId": "75b19a17-c000-442a-cff6-46d7f294f843",
        "colab": {
          "base_uri": "https://localhost:8080/"
        }
      },
      "outputs": [
        {
          "output_type": "execute_result",
          "data": {
            "text/plain": [
              "==========================================================================================\n",
              "Layer (type:depth-idx)                   Input Shape               Output Shape\n",
              "==========================================================================================\n",
              "FCN1                                     [1, 28, 28]               [1, 10]\n",
              "├─Sequential: 1-1                        [1, 28, 28]               [1, 10]\n",
              "│    └─Flatten: 2-1                      [1, 28, 28]               [1, 784]\n",
              "│    └─Linear: 2-2                       [1, 784]                  [1, 128]\n",
              "│    └─Sigmoid: 2-3                      [1, 128]                  [1, 128]\n",
              "│    └─Linear: 2-4                       [1, 128]                  [1, 10]\n",
              "==========================================================================================\n",
              "Total params: 101,770\n",
              "Trainable params: 101,770\n",
              "Non-trainable params: 0\n",
              "Total mult-adds (M): 0.10\n",
              "==========================================================================================\n",
              "Input size (MB): 0.00\n",
              "Forward/backward pass size (MB): 0.00\n",
              "Params size (MB): 0.41\n",
              "Estimated Total Size (MB): 0.41\n",
              "=========================================================================================="
            ]
          },
          "metadata": {},
          "execution_count": 28
        }
      ],
      "source": [
        "model1 = FCN1()\n",
        "summary(model1, (1, 28, 28), \n",
        "        col_names=['input_size', 'output_size'],\n",
        "        device='cpu', verbose=0)"
      ]
    },
    {
      "cell_type": "markdown",
      "source": [
        "Modelo 2"
      ],
      "metadata": {
        "id": "TND9p-yOQwM9"
      }
    },
    {
      "cell_type": "code",
      "source": [
        "model2 = FCN2()\n",
        "summary(model2, (1, 28, 28), \n",
        "        col_names=['input_size', 'output_size'],\n",
        "        device='cpu', verbose=0)"
      ],
      "metadata": {
        "colab": {
          "base_uri": "https://localhost:8080/"
        },
        "id": "031rSJKzQV6L",
        "outputId": "56bbacdc-1a8e-495e-f8d8-8641e79c350e"
      },
      "execution_count": 29,
      "outputs": [
        {
          "output_type": "execute_result",
          "data": {
            "text/plain": [
              "==========================================================================================\n",
              "Layer (type:depth-idx)                   Input Shape               Output Shape\n",
              "==========================================================================================\n",
              "FCN2                                     [1, 28, 28]               [1, 10]\n",
              "├─Sequential: 1-1                        [1, 28, 28]               [1, 10]\n",
              "│    └─Flatten: 2-1                      [1, 28, 28]               [1, 784]\n",
              "│    └─Linear: 2-2                       [1, 784]                  [1, 128]\n",
              "│    └─Sigmoid: 2-3                      [1, 128]                  [1, 128]\n",
              "│    └─Linear: 2-4                       [1, 128]                  [1, 64]\n",
              "│    └─Sigmoid: 2-5                      [1, 64]                   [1, 64]\n",
              "│    └─Linear: 2-6                       [1, 64]                   [1, 10]\n",
              "==========================================================================================\n",
              "Total params: 109,386\n",
              "Trainable params: 109,386\n",
              "Non-trainable params: 0\n",
              "Total mult-adds (M): 0.11\n",
              "==========================================================================================\n",
              "Input size (MB): 0.00\n",
              "Forward/backward pass size (MB): 0.00\n",
              "Params size (MB): 0.44\n",
              "Estimated Total Size (MB): 0.44\n",
              "=========================================================================================="
            ]
          },
          "metadata": {},
          "execution_count": 29
        }
      ]
    },
    {
      "cell_type": "markdown",
      "source": [
        "Modelo 3"
      ],
      "metadata": {
        "id": "t1kmrjAnQc22"
      }
    },
    {
      "cell_type": "code",
      "source": [
        "model3 = FCN3()\n",
        "summary(model3, (1, 28, 28), \n",
        "        col_names=['input_size', 'output_size'],\n",
        "        device='cpu', verbose=0)"
      ],
      "metadata": {
        "colab": {
          "base_uri": "https://localhost:8080/"
        },
        "id": "BzntEXZHQzqX",
        "outputId": "d0d883b2-4a86-43a9-b57c-5cdede9765a3"
      },
      "execution_count": 30,
      "outputs": [
        {
          "output_type": "execute_result",
          "data": {
            "text/plain": [
              "==========================================================================================\n",
              "Layer (type:depth-idx)                   Input Shape               Output Shape\n",
              "==========================================================================================\n",
              "FCN3                                     [1, 28, 28]               [1, 10]\n",
              "├─Sequential: 1-1                        [1, 28, 28]               [1, 10]\n",
              "│    └─Flatten: 2-1                      [1, 28, 28]               [1, 784]\n",
              "│    └─Linear: 2-2                       [1, 784]                  [1, 128]\n",
              "│    └─ReLU: 2-3                         [1, 128]                  [1, 128]\n",
              "│    └─Linear: 2-4                       [1, 128]                  [1, 10]\n",
              "==========================================================================================\n",
              "Total params: 101,770\n",
              "Trainable params: 101,770\n",
              "Non-trainable params: 0\n",
              "Total mult-adds (M): 0.10\n",
              "==========================================================================================\n",
              "Input size (MB): 0.00\n",
              "Forward/backward pass size (MB): 0.00\n",
              "Params size (MB): 0.41\n",
              "Estimated Total Size (MB): 0.41\n",
              "=========================================================================================="
            ]
          },
          "metadata": {},
          "execution_count": 30
        }
      ]
    },
    {
      "cell_type": "markdown",
      "metadata": {
        "id": "n_y3rUzj4w4V"
      },
      "source": [
        "## Entrenamiento"
      ]
    },
    {
      "cell_type": "markdown",
      "metadata": {
        "id": "-TWY5TX64w4W"
      },
      "source": [
        "Para los tres modelos vamos a usar una tasa de aprendizae de $1\\times 10^{-3}$ y 30 épocas"
      ]
    },
    {
      "cell_type": "code",
      "execution_count": 31,
      "metadata": {
        "id": "xCqwGRD1nz1a"
      },
      "outputs": [],
      "source": [
        "def train_epoch(dl, model, opt):\n",
        "\n",
        "    # por cada lote\n",
        "    for x, y_true in dl:\n",
        "        \n",
        "        # computamos logits\n",
        "        y_lgts = model(x)\n",
        "        \n",
        "        # computamos la pérdida\n",
        "        loss = F.cross_entropy(y_lgts, y_true)\n",
        "        \n",
        "        # vaciamos los gradientes\n",
        "        opt.zero_grad()\n",
        "        \n",
        "        # retropropagamos\n",
        "        loss.backward()\n",
        "        \n",
        "        # actualizamos parámetros\n",
        "        opt.step()\n",
        "\n",
        "\n",
        "def eval_epoch(dl, model, num_batches=None):\n",
        "\n",
        "    # evitamos que se registren las operaciones \n",
        "    # en la gráfica de cómputo\n",
        "    with torch.no_grad():\n",
        "\n",
        "        # historiales\n",
        "        losses, accs = [], []\n",
        "\n",
        "        # validación de la época con num_batches\n",
        "        # si num_batches==None, se usan todos los lotes\n",
        "        for x, y_true in take(dl, num_batches):\n",
        "\n",
        "            # computamos los logits\n",
        "            y_lgts = model(x)\n",
        "\n",
        "            # computamos los puntajes\n",
        "            y_prob = F.softmax(y_lgts, 1)\n",
        "\n",
        "            # computamos la clases\n",
        "            y_pred = torch.argmax(y_prob, 1)\n",
        "\n",
        "            # computamos la pérdida\n",
        "            loss = F.cross_entropy(y_lgts, y_true)\n",
        "\n",
        "            # computamos la exactitud\n",
        "            acc = (y_true == y_pred).type(torch.float32).mean()\n",
        "\n",
        "            # guardamos históricos\n",
        "            losses.append(loss.item())\n",
        "            accs.append(acc.item())\n",
        "\n",
        "        # promediamos\n",
        "        loss = np.mean(losses) * 100\n",
        "        acc = np.mean(accs) * 100\n",
        "\n",
        "        return loss, acc\n",
        "        \n",
        "        \n",
        "def train(model, trn_dl, tst_dl, lr=1e-3, epochs=30,\n",
        "          trn_batches=None, tst_batches=None):\n",
        "\n",
        "    # historiales\n",
        "    loss_hist, acc_hist = [], []\n",
        "    \n",
        "    # optimizador\n",
        "    opt = optim.SGD(model.parameters(), lr=lr)\n",
        "\n",
        "    # ciclo de entrenamiento\n",
        "    for epoch in trange(epochs):\n",
        "\n",
        "        # entrenamos la época\n",
        "        train_epoch(trn_dl, model, opt)\n",
        "\n",
        "        # evaluamos la época en entrenamiento\n",
        "        trn_loss, trn_acc = eval_epoch(trn_dl, model, trn_batches)\n",
        "        # evaluamos la época en prueba\n",
        "        tst_loss, tst_acc = eval_epoch(tst_dl, model, tst_batches)\n",
        "\n",
        "        # guardamos historial\n",
        "        loss_hist.append([trn_loss, tst_loss])\n",
        "        acc_hist.append([trn_acc, tst_acc])\n",
        "\n",
        "        # imprimimos progreso\n",
        "        print(f'E{epoch:02} '\n",
        "              f'loss=[{trn_loss:6.2f},{tst_loss:6.2f}] '\n",
        "              f'acc=[{trn_acc:5.2f},{tst_acc:5.2f}]')\n",
        "\n",
        "    return loss_hist, acc_hist"
      ]
    },
    {
      "cell_type": "markdown",
      "metadata": {
        "id": "ZLDQchV04w4X"
      },
      "source": [
        "Entrenamos los modelos:"
      ]
    },
    {
      "cell_type": "code",
      "execution_count": 32,
      "metadata": {
        "id": "T0M7wba84w4Y",
        "outputId": "74e24266-fd3f-44cb-e025-00d6eb595ada",
        "colab": {
          "referenced_widgets": [
            "e4be11c5735c4d2eac23751167d8341f",
            "8ad7f1d000c84f3ebc6d19764a546a6d",
            "512284c9a791451ba9f07767798cb491",
            "a5530dc8727e4d5b96034fac6d53502c",
            "79c82a60550b42ca9c2ff3c907fb7cf8",
            "64f4ca7b88ca417197449f6593e88841",
            "47af1b7f8b03461594bfd0ac995f8ff1",
            "f1d429f9068e435ba40c2c7610b08d8b",
            "5e69444686c842acb30a9df9d3860d88",
            "e91ab63682694e2080868ccd6427c836",
            "27aaa45c33ff4464ad5003b1765aa07a",
            "fff94b4dc9d440979f17bacd9e20bde4",
            "440e512eec6341888cc811b7bf30ecb6",
            "808cb5f3ddbe484f8a0a947ae82e75b8",
            "0934d172be69402e931ff4ac0f401cd7",
            "441df126ef8e4bc7a02f0ad95f3a2b39",
            "f0852e7562314e6eaea977ae1d9a0cb8",
            "9a32dab5446e492ca8322ea7cea98332",
            "67d7ef1aa3204e88b105e8bdfcab38a7",
            "18d46918a803420a846c1c36cf7cd04b",
            "d35f9fdacfa44c22a62c46dfd906214c",
            "eac23a50f9ae46beb61333062c7e3c35",
            "01bd79d4e26f4fccbdc77cf1700f359e",
            "4461a992dee448bc854d9ea0ec096a84",
            "9e688047e02a4728baccb8f3f67339bb",
            "0ffc37ab49f24d2d85ad2af330683ab7",
            "dc4ded417542417e8471656ba33d6bb2",
            "d17765e12f074177a3d1d7ace1789ad5",
            "f7decf147e0040729c5c9a38239904bd",
            "22e7ff72ceb6488893e51dac7934b5b6",
            "6702cc8ca3a14545b46a79835c14ef62",
            "f6b18728247f4df5b0b71aeeb48a68ff",
            "f0c9350b2503482e8ebf9200e922ce1b"
          ],
          "base_uri": "https://localhost:8080/",
          "height": 1000
        }
      },
      "outputs": [
        {
          "output_type": "display_data",
          "data": {
            "text/plain": [
              "  0%|          | 0/30 [00:00<?, ?it/s]"
            ],
            "application/vnd.jupyter.widget-view+json": {
              "version_major": 2,
              "version_minor": 0,
              "model_id": "e4be11c5735c4d2eac23751167d8341f"
            }
          },
          "metadata": {}
        },
        {
          "output_type": "stream",
          "name": "stdout",
          "text": [
            "E00 loss=[219.02,219.08] acc=[55.95,54.92]\n",
            "E01 loss=[204.96,205.07] acc=[62.21,61.72]\n",
            "E02 loss=[187.22,187.39] acc=[61.52,60.76]\n",
            "E03 loss=[168.90,169.16] acc=[63.28,62.60]\n",
            "E04 loss=[152.98,153.33] acc=[64.08,63.59]\n",
            "E05 loss=[140.06,140.49] acc=[65.92,65.36]\n",
            "E06 loss=[129.66,130.20] acc=[68.02,67.61]\n",
            "E07 loss=[121.20,121.80] acc=[69.27,68.79]\n",
            "E08 loss=[114.19,114.89] acc=[70.19,69.76]\n",
            "E09 loss=[108.31,109.04] acc=[70.64,70.29]\n",
            "E10 loss=[103.34,104.12] acc=[71.41,70.82]\n",
            "E11 loss=[ 99.07, 99.89] acc=[71.72,71.07]\n",
            "E12 loss=[ 95.39, 96.31] acc=[72.21,71.45]\n",
            "E13 loss=[ 92.19, 93.17] acc=[72.59,71.67]\n",
            "E14 loss=[ 89.37, 90.35] acc=[72.90,72.09]\n",
            "E15 loss=[ 86.90, 87.94] acc=[73.05,72.13]\n",
            "E16 loss=[ 84.69, 85.76] acc=[73.28,72.47]\n",
            "E17 loss=[ 82.72, 83.81] acc=[73.61,72.97]\n",
            "E18 loss=[ 80.96, 82.14] acc=[73.76,73.11]\n",
            "E19 loss=[ 79.35, 80.52] acc=[74.04,73.54]\n",
            "E20 loss=[ 77.91, 79.15] acc=[74.26,73.65]\n",
            "E21 loss=[ 76.59, 77.86] acc=[74.42,73.70]\n",
            "E22 loss=[ 75.38, 76.62] acc=[74.55,73.89]\n",
            "E23 loss=[ 74.27, 75.57] acc=[74.85,74.11]\n",
            "E24 loss=[ 73.25, 74.64] acc=[74.90,74.24]\n",
            "E25 loss=[ 72.30, 73.71] acc=[75.15,74.40]\n",
            "E26 loss=[ 71.40, 72.84] acc=[75.34,74.70]\n",
            "E27 loss=[ 70.58, 71.94] acc=[75.53,74.94]\n",
            "E28 loss=[ 69.80, 71.27] acc=[75.61,74.98]\n",
            "E29 loss=[ 69.07, 70.61] acc=[75.82,75.10]\n",
            "Terminé mdelo 1\n"
          ]
        },
        {
          "output_type": "display_data",
          "data": {
            "text/plain": [
              "  0%|          | 0/30 [00:00<?, ?it/s]"
            ],
            "application/vnd.jupyter.widget-view+json": {
              "version_major": 2,
              "version_minor": 0,
              "model_id": "fff94b4dc9d440979f17bacd9e20bde4"
            }
          },
          "metadata": {}
        },
        {
          "output_type": "stream",
          "name": "stdout",
          "text": [
            "E00 loss=[230.01,230.00] acc=[10.00,10.01]\n",
            "E01 loss=[229.75,229.75] acc=[21.28,21.47]\n",
            "E02 loss=[229.50,229.50] acc=[15.42,15.32]\n",
            "E03 loss=[229.24,229.24] acc=[20.37,20.61]\n",
            "E04 loss=[228.94,228.94] acc=[24.70,24.74]\n",
            "E05 loss=[228.59,228.59] acc=[40.73,40.90]\n",
            "E06 loss=[228.21,228.21] acc=[37.30,36.96]\n",
            "E07 loss=[227.74,227.74] acc=[47.25,46.52]\n",
            "E08 loss=[227.19,227.19] acc=[40.34,39.60]\n",
            "E09 loss=[226.50,226.50] acc=[45.69,46.17]\n",
            "E10 loss=[225.64,225.65] acc=[42.31,41.58]\n",
            "E11 loss=[224.55,224.56] acc=[46.00,45.63]\n",
            "E12 loss=[223.14,223.15] acc=[55.23,55.48]\n",
            "E13 loss=[221.29,221.30] acc=[49.80,49.76]\n",
            "E14 loss=[218.81,218.82] acc=[47.55,46.94]\n",
            "E15 loss=[215.49,215.51] acc=[47.99,47.59]\n",
            "E16 loss=[211.06,211.08] acc=[47.49,47.28]\n",
            "E17 loss=[205.37,205.41] acc=[45.03,44.94]\n",
            "E18 loss=[198.48,198.55] acc=[45.51,45.76]\n",
            "E19 loss=[190.86,190.95] acc=[44.39,44.37]\n",
            "E20 loss=[183.16,183.26] acc=[46.17,46.38]\n",
            "E21 loss=[175.89,176.01] acc=[47.09,47.15]\n",
            "E22 loss=[169.25,169.41] acc=[47.71,47.46]\n",
            "E23 loss=[163.20,163.37] acc=[49.24,49.43]\n",
            "E24 loss=[157.65,157.87] acc=[50.46,50.97]\n",
            "E25 loss=[152.54,152.77] acc=[50.58,50.94]\n",
            "E26 loss=[147.84,148.06] acc=[51.95,52.16]\n",
            "E27 loss=[143.55,143.82] acc=[53.28,53.55]\n",
            "E28 loss=[139.65,139.94] acc=[53.79,54.10]\n",
            "E29 loss=[136.13,136.44] acc=[54.48,54.80]\n",
            "Terminé mdelo 2\n"
          ]
        },
        {
          "output_type": "display_data",
          "data": {
            "text/plain": [
              "  0%|          | 0/30 [00:00<?, ?it/s]"
            ],
            "application/vnd.jupyter.widget-view+json": {
              "version_major": 2,
              "version_minor": 0,
              "model_id": "01bd79d4e26f4fccbdc77cf1700f359e"
            }
          },
          "metadata": {}
        },
        {
          "output_type": "stream",
          "name": "stdout",
          "text": [
            "E00 loss=[151.83,152.34] acc=[64.21,63.55]\n",
            "E01 loss=[107.67,108.70] acc=[67.01,65.96]\n",
            "E02 loss=[ 90.17, 91.49] acc=[68.89,67.71]\n",
            "E03 loss=[ 81.20, 82.73] acc=[71.74,70.40]\n",
            "E04 loss=[ 75.48, 77.11] acc=[73.92,72.51]\n",
            "E05 loss=[ 71.29, 73.04] acc=[75.61,74.13]\n",
            "E06 loss=[ 67.88, 69.73] acc=[77.02,75.86]\n",
            "E07 loss=[ 65.23, 67.10] acc=[77.61,76.51]\n",
            "E08 loss=[ 62.84, 64.79] acc=[78.94,77.61]\n",
            "E09 loss=[ 60.96, 62.95] acc=[79.40,78.22]\n",
            "E10 loss=[ 59.30, 61.33] acc=[80.11,78.79]\n",
            "E11 loss=[ 57.97, 60.00] acc=[80.69,79.32]\n",
            "E12 loss=[ 56.68, 58.83] acc=[81.06,79.78]\n",
            "E13 loss=[ 55.65, 57.90] acc=[81.50,80.23]\n",
            "E14 loss=[ 54.67, 57.09] acc=[81.84,80.50]\n",
            "E15 loss=[ 53.77, 56.10] acc=[81.97,80.76]\n",
            "E16 loss=[ 53.04, 55.46] acc=[82.13,80.99]\n",
            "E17 loss=[ 52.30, 54.77] acc=[82.45,81.25]\n",
            "E18 loss=[ 51.67, 54.25] acc=[82.62,81.44]\n",
            "E19 loss=[ 51.11, 53.68] acc=[82.77,81.53]\n",
            "E20 loss=[ 50.56, 53.13] acc=[82.91,81.63]\n",
            "E21 loss=[ 50.11, 52.70] acc=[83.06,81.89]\n",
            "E22 loss=[ 49.67, 52.30] acc=[83.14,81.90]\n",
            "E23 loss=[ 49.31, 51.95] acc=[83.24,82.02]\n",
            "E24 loss=[ 48.82, 51.62] acc=[83.41,82.05]\n",
            "E25 loss=[ 48.50, 51.31] acc=[83.44,82.06]\n",
            "E26 loss=[ 48.05, 50.89] acc=[83.65,82.43]\n",
            "E27 loss=[ 47.74, 50.57] acc=[83.71,82.36]\n",
            "E28 loss=[ 47.43, 50.39] acc=[83.84,82.45]\n",
            "E29 loss=[ 47.12, 50.06] acc=[83.90,82.54]\n",
            "Terminé mdelo 3\n"
          ]
        }
      ],
      "source": [
        "# instanciamos un modelo\n",
        "#model1 = FCN1()\n",
        "# entrenamos\n",
        "loss_hist1, acc_hist1 = train(model1, trn_dl, tst_dl)\n",
        "print('Terminé mdelo 1')\n",
        "loss_hist2, acc_hist2 = train(model2, trn_dl, tst_dl)\n",
        "print('Terminé mdelo 2')\n",
        "loss_hist3, acc_hist3 = train(model3, trn_dl, tst_dl)\n",
        "print('Terminé mdelo 3')"
      ]
    },
    {
      "cell_type": "markdown",
      "metadata": {
        "id": "qK1g7QMt4w4Y"
      },
      "source": [
        "### Gráficas de pérdidas y exactitud"
      ]
    },
    {
      "cell_type": "code",
      "execution_count": 33,
      "metadata": {
        "id": "a8uCb7te4w4Y",
        "outputId": "a0e8ee5b-3353-47e8-d1e7-9b3326e27e1d",
        "colab": {
          "base_uri": "https://localhost:8080/",
          "height": 280
        }
      },
      "outputs": [
        {
          "output_type": "display_data",
          "data": {
            "text/plain": [
              "<Figure size 432x288 with 1 Axes>"
            ],
            "image/png": "[encoded data removed]"
          },
          "metadata": {
            "needs_background": "light"
          }
        }
      ],
      "source": [
        "trn_loss1, tst_loss1 = zip(*loss_hist1)\n",
        "plt.plot(trn_loss1, 'tab:orange', label='trn loss 1')\n",
        "plt.plot(tst_loss1, 'tab:red', label='tst loss 1')\n",
        "\n",
        "trn_loss2, tst_loss2 = zip(*loss_hist2)\n",
        "plt.plot(trn_loss2, 'tab:blue', label='trn loss 2')\n",
        "plt.plot(tst_loss2, 'tab:purple', label='tst loss 2')\n",
        "\n",
        "trn_loss3, tst_loss3 = zip(*loss_hist3)\n",
        "plt.plot(trn_loss3, 'tab:green', label='trn loss 3')\n",
        "plt.plot(tst_loss3, 'tab:brown', label='tst loss 3')\n",
        "\n",
        "plt.legend(loc='upper right')\n",
        "plt.xlabel('época')\n",
        "plt.ylabel('pérdida')\n",
        "plt.show()"
      ]
    },
    {
      "cell_type": "code",
      "execution_count": 34,
      "metadata": {
        "id": "BioSjVC74w4Z",
        "outputId": "a5838650-1407-4037-9171-0d906951e4a8",
        "colab": {
          "base_uri": "https://localhost:8080/",
          "height": 280
        }
      },
      "outputs": [
        {
          "output_type": "display_data",
          "data": {
            "text/plain": [
              "<Figure size 432x288 with 1 Axes>"
            ],
            "image/png": "[encoded data removed]"
          },
          "metadata": {
            "needs_background": "light"
          }
        }
      ],
      "source": [
        "trn_acc1, tst_acc1 = zip(*acc_hist1)\n",
        "plt.plot(trn_acc1, 'tab:orange', label='trn acc 1')\n",
        "plt.plot(tst_acc1, 'tab:red', label='tst acc 1')\n",
        "\n",
        "trn_acc2, tst_acc2 = zip(*acc_hist2)\n",
        "plt.plot(trn_acc2, 'tab:blue', label='trn acc 2')\n",
        "plt.plot(tst_acc2, 'tab:purple', label='tst acc 2')\n",
        "\n",
        "trn_acc3, tst_acc3 = zip(*acc_hist2)\n",
        "plt.plot(trn_acc3, 'tab:green', label='trn acc 3')\n",
        "plt.plot(tst_acc3, 'tab:brown', label='tst acc 3')\n",
        "\n",
        "plt.legend(loc='lower right')\n",
        "plt.xlabel('época')\n",
        "plt.ylabel('exactitud')\n",
        "plt.show()"
      ]
    },
    {
      "cell_type": "markdown",
      "metadata": {
        "id": "M5re9MkZ4w4Z"
      },
      "source": [
        "## Evaluación final\n",
        "Para evaluar el sesempeño final de nuestros modelos, una vez entrenados vemos qué tal les va en el conjunto de prueba"
      ]
    },
    {
      "cell_type": "code",
      "execution_count": 35,
      "metadata": {
        "id": "FOvs_Pwj4w4a",
        "outputId": "91c997d1-be98-400d-86e1-8af55e37afdf",
        "colab": {
          "base_uri": "https://localhost:8080/"
        }
      },
      "outputs": [
        {
          "output_type": "stream",
          "name": "stdout",
          "text": [
            "loss1 =[ 70.55] acc1 =[75.14]\n",
            "loss2 =[136.44] acc2 =[54.80]\n",
            "loss3 =[ 50.09] acc3 =[82.50]\n"
          ]
        }
      ],
      "source": [
        "tst_loss1, tst_acc1 = eval_epoch(tst_dl, model1)\n",
        "tst_loss2, tst_acc2 = eval_epoch(tst_dl, model2)\n",
        "tst_loss3, tst_acc3 = eval_epoch(tst_dl, model3)\n",
        "print(f'loss1 =[{tst_loss1:6.2f}] '\n",
        "      f'acc1 =[{tst_acc1:5.2f}]\\n'\n",
        "      f'loss2 =[{tst_loss2:6.2f}] '\n",
        "      f'acc2 =[{tst_acc2:5.2f}]\\n'\n",
        "      f'loss3 =[{tst_loss3:6.2f}] '\n",
        "      f'acc3 =[{tst_acc3:5.2f}]')"
      ]
    },
    {
      "cell_type": "markdown",
      "metadata": {
        "id": "7frKrsfo4w4a"
      },
      "source": [
        "### Inferencia"
      ]
    },
    {
      "cell_type": "code",
      "execution_count": 40,
      "metadata": {
        "id": "Xqs982IJ4w4a",
        "outputId": "f84da0c3-5fc9-445e-e4c4-57a848c7e806",
        "colab": {
          "base_uri": "https://localhost:8080/",
          "height": 399
        }
      },
      "outputs": [
        {
          "output_type": "display_data",
          "data": {
            "text/plain": [
              "<Figure size 864x432 with 32 Axes>"
            ],
            "image/png": "[encoded data removed]"
          },
          "metadata": {
            "needs_background": "light"
          }
        }
      ],
      "source": [
        "with torch.no_grad(): \n",
        "    x, y_true = next(iter(tst_dl))\n",
        "    y_lgts1 = model1(x)\n",
        "    y_prob1 = F.softmax(y_lgts1, 1)\n",
        "    y_pred1 = torch.argmax(y_prob1, 1)\n",
        "\n",
        "    y_lgts2 = model2(x)\n",
        "    y_prob2 = F.softmax(y_lgts2, 1)\n",
        "    y_pred2 = torch.argmax(y_prob2, 1)\n",
        "\n",
        "    y_lgts3 = model3(x)\n",
        "    y_prob3 = F.softmax(y_lgts3, 1)\n",
        "    y_pred3 = torch.argmax(y_prob3, 1)\n",
        "\n",
        "    titles = [f'V={t} P1={p2} P2={p3} P3={p3}' for t, p1, p2, p3 in zip(y_true, y_pred1, y_pred2, y_pred3)]\n",
        "\n",
        "    display_grid(x, titles, ROWS, COLS)"
      ]
    },
    {
      "cell_type": "code",
      "source": [],
      "metadata": {
        "id": "3WpPQXtWZmn_"
      },
      "execution_count": null,
      "outputs": []
    }
  ],
  "metadata": {
    "kernelspec": {
      "display_name": "Python 3 (ipykernel)",
      "language": "python",
      "name": "python3"
    },
    "language_info": {
      "codemirror_mode": {
        "name": "ipython",
        "version": 3
      },
      "file_extension": ".py",
      "mimetype": "text/x-python",
      "name": "python",
      "nbconvert_exporter": "python",
      "pygments_lexer": "ipython3",
      "version": "3.10.6"
    },
    "colab": {
      "provenance": [],
      "collapsed_sections": [],
      "include_colab_link": true
    },
    "widgets": {
      "application/vnd.jupyter.widget-state+json": {
        "e4be11c5735c4d2eac23751167d8341f": {
          "model_module": "@jupyter-widgets/controls",
          "model_name": "HBoxModel",
          "model_module_version": "1.5.0",
          "state": {
            "_dom_classes": [],
            "_model_module": "@jupyter-widgets/controls",
            "_model_module_version": "1.5.0",
            "_model_name": "HBoxModel",
            "_view_count": null,
            "_view_module": "@jupyter-widgets/controls",
            "_view_module_version": "1.5.0",
            "_view_name": "HBoxView",
            "box_style": "",
            "children": [
              "IPY_MODEL_8ad7f1d000c84f3ebc6d19764a546a6d",
              "IPY_MODEL_512284c9a791451ba9f07767798cb491",
              "IPY_MODEL_a5530dc8727e4d5b96034fac6d53502c"
            ],
            "layout": "IPY_MODEL_79c82a60550b42ca9c2ff3c907fb7cf8"
          }
        },
        "8ad7f1d000c84f3ebc6d19764a546a6d": {
          "model_module": "@jupyter-widgets/controls",
          "model_name": "HTMLModel",
          "model_module_version": "1.5.0",
          "state": {
            "_dom_classes": [],
            "_model_module": "@jupyter-widgets/controls",
            "_model_module_version": "1.5.0",
            "_model_name": "HTMLModel",
            "_view_count": null,
            "_view_module": "@jupyter-widgets/controls",
            "_view_module_version": "1.5.0",
            "_view_name": "HTMLView",
            "description": "",
            "description_tooltip": null,
            "layout": "IPY_MODEL_64f4ca7b88ca417197449f6593e88841",
            "placeholder": "​",
            "style": "IPY_MODEL_47af1b7f8b03461594bfd0ac995f8ff1",
            "value": "100%"
          }
        },
        "512284c9a791451ba9f07767798cb491": {
          "model_module": "@jupyter-widgets/controls",
          "model_name": "FloatProgressModel",
          "model_module_version": "1.5.0",
          "state": {
            "_dom_classes": [],
            "_model_module": "@jupyter-widgets/controls",
            "_model_module_version": "1.5.0",
            "_model_name": "FloatProgressModel",
            "_view_count": null,
            "_view_module": "@jupyter-widgets/controls",
            "_view_module_version": "1.5.0",
            "_view_name": "ProgressView",
            "bar_style": "success",
            "description": "",
            "description_tooltip": null,
            "layout": "IPY_MODEL_f1d429f9068e435ba40c2c7610b08d8b",
            "max": 30,
            "min": 0,
            "orientation": "horizontal",
            "style": "IPY_MODEL_5e69444686c842acb30a9df9d3860d88",
            "value": 30
          }
        },
        "a5530dc8727e4d5b96034fac6d53502c": {
          "model_module": "@jupyter-widgets/controls",
          "model_name": "HTMLModel",
          "model_module_version": "1.5.0",
          "state": {
            "_dom_classes": [],
            "_model_module": "@jupyter-widgets/controls",
            "_model_module_version": "1.5.0",
            "_model_name": "HTMLModel",
            "_view_count": null,
            "_view_module": "@jupyter-widgets/controls",
            "_view_module_version": "1.5.0",
            "_view_name": "HTMLView",
            "description": "",
            "description_tooltip": null,
            "layout": "IPY_MODEL_e91ab63682694e2080868ccd6427c836",
            "placeholder": "​",
            "style": "IPY_MODEL_27aaa45c33ff4464ad5003b1765aa07a",
            "value": " 30/30 [07:55&lt;00:00, 15.43s/it]"
          }
        },
        "79c82a60550b42ca9c2ff3c907fb7cf8": {
          "model_module": "@jupyter-widgets/base",
          "model_name": "LayoutModel",
          "model_module_version": "1.2.0",
          "state": {
            "_model_module": "@jupyter-widgets/base",
            "_model_module_version": "1.2.0",
            "_model_name": "LayoutModel",
            "_view_count": null,
            "_view_module": "@jupyter-widgets/base",
            "_view_module_version": "1.2.0",
            "_view_name": "LayoutView",
            "align_content": null,
            "align_items": null,
            "align_self": null,
            "border": null,
            "bottom": null,
            "display": null,
            "flex": null,
            "flex_flow": null,
            "grid_area": null,
            "grid_auto_columns": null,
            "grid_auto_flow": null,
            "grid_auto_rows": null,
            "grid_column": null,
            "grid_gap": null,
            "grid_row": null,
            "grid_template_areas": null,
            "grid_template_columns": null,
            "grid_template_rows": null,
            "height": null,
            "justify_content": null,
            "justify_items": null,
            "left": null,
            "margin": null,
            "max_height": null,
            "max_width": null,
            "min_height": null,
            "min_width": null,
            "object_fit": null,
            "object_position": null,
            "order": null,
            "overflow": null,
            "overflow_x": null,
            "overflow_y": null,
            "padding": null,
            "right": null,
            "top": null,
            "visibility": null,
            "width": null
          }
        },
        "64f4ca7b88ca417197449f6593e88841": {
          "model_module": "@jupyter-widgets/base",
          "model_name": "LayoutModel",
          "model_module_version": "1.2.0",
          "state": {
            "_model_module": "@jupyter-widgets/base",
            "_model_module_version": "1.2.0",
            "_model_name": "LayoutModel",
            "_view_count": null,
            "_view_module": "@jupyter-widgets/base",
            "_view_module_version": "1.2.0",
            "_view_name": "LayoutView",
            "align_content": null,
            "align_items": null,
            "align_self": null,
            "border": null,
            "bottom": null,
            "display": null,
            "flex": null,
            "flex_flow": null,
            "grid_area": null,
            "grid_auto_columns": null,
            "grid_auto_flow": null,
            "grid_auto_rows": null,
            "grid_column": null,
            "grid_gap": null,
            "grid_row": null,
            "grid_template_areas": null,
            "grid_template_columns": null,
            "grid_template_rows": null,
            "height": null,
            "justify_content": null,
            "justify_items": null,
            "left": null,
            "margin": null,
            "max_height": null,
            "max_width": null,
            "min_height": null,
            "min_width": null,
            "object_fit": null,
            "object_position": null,
            "order": null,
            "overflow": null,
            "overflow_x": null,
            "overflow_y": null,
            "padding": null,
            "right": null,
            "top": null,
            "visibility": null,
            "width": null
          }
        },
        "47af1b7f8b03461594bfd0ac995f8ff1": {
          "model_module": "@jupyter-widgets/controls",
          "model_name": "DescriptionStyleModel",
          "model_module_version": "1.5.0",
          "state": {
            "_model_module": "@jupyter-widgets/controls",
            "_model_module_version": "1.5.0",
            "_model_name": "DescriptionStyleModel",
            "_view_count": null,
            "_view_module": "@jupyter-widgets/base",
            "_view_module_version": "1.2.0",
            "_view_name": "StyleView",
            "description_width": ""
          }
        },
        "f1d429f9068e435ba40c2c7610b08d8b": {
          "model_module": "@jupyter-widgets/base",
          "model_name": "LayoutModel",
          "model_module_version": "1.2.0",
          "state": {
            "_model_module": "@jupyter-widgets/base",
            "_model_module_version": "1.2.0",
            "_model_name": "LayoutModel",
            "_view_count": null,
            "_view_module": "@jupyter-widgets/base",
            "_view_module_version": "1.2.0",
            "_view_name": "LayoutView",
            "align_content": null,
            "align_items": null,
            "align_self": null,
            "border": null,
            "bottom": null,
            "display": null,
            "flex": null,
            "flex_flow": null,
            "grid_area": null,
            "grid_auto_columns": null,
            "grid_auto_flow": null,
            "grid_auto_rows": null,
            "grid_column": null,
            "grid_gap": null,
            "grid_row": null,
            "grid_template_areas": null,
            "grid_template_columns": null,
            "grid_template_rows": null,
            "height": null,
            "justify_content": null,
            "justify_items": null,
            "left": null,
            "margin": null,
            "max_height": null,
            "max_width": null,
            "min_height": null,
            "min_width": null,
            "object_fit": null,
            "object_position": null,
            "order": null,
            "overflow": null,
            "overflow_x": null,
            "overflow_y": null,
            "padding": null,
            "right": null,
            "top": null,
            "visibility": null,
            "width": null
          }
        },
        "5e69444686c842acb30a9df9d3860d88": {
          "model_module": "@jupyter-widgets/controls",
          "model_name": "ProgressStyleModel",
          "model_module_version": "1.5.0",
          "state": {
            "_model_module": "@jupyter-widgets/controls",
            "_model_module_version": "1.5.0",
            "_model_name": "ProgressStyleModel",
            "_view_count": null,
            "_view_module": "@jupyter-widgets/base",
            "_view_module_version": "1.2.0",
            "_view_name": "StyleView",
            "bar_color": null,
            "description_width": ""
          }
        },
        "e91ab63682694e2080868ccd6427c836": {
          "model_module": "@jupyter-widgets/base",
          "model_name": "LayoutModel",
          "model_module_version": "1.2.0",
          "state": {
            "_model_module": "@jupyter-widgets/base",
            "_model_module_version": "1.2.0",
            "_model_name": "LayoutModel",
            "_view_count": null,
            "_view_module": "@jupyter-widgets/base",
            "_view_module_version": "1.2.0",
            "_view_name": "LayoutView",
            "align_content": null,
            "align_items": null,
            "align_self": null,
            "border": null,
            "bottom": null,
            "display": null,
            "flex": null,
            "flex_flow": null,
            "grid_area": null,
            "grid_auto_columns": null,
            "grid_auto_flow": null,
            "grid_auto_rows": null,
            "grid_column": null,
            "grid_gap": null,
            "grid_row": null,
            "grid_template_areas": null,
            "grid_template_columns": null,
            "grid_template_rows": null,
            "height": null,
            "justify_content": null,
            "justify_items": null,
            "left": null,
            "margin": null,
            "max_height": null,
            "max_width": null,
            "min_height": null,
            "min_width": null,
            "object_fit": null,
            "object_position": null,
            "order": null,
            "overflow": null,
            "overflow_x": null,
            "overflow_y": null,
            "padding": null,
            "right": null,
            "top": null,
            "visibility": null,
            "width": null
          }
        },
        "27aaa45c33ff4464ad5003b1765aa07a": {
          "model_module": "@jupyter-widgets/controls",
          "model_name": "DescriptionStyleModel",
          "model_module_version": "1.5.0",
          "state": {
            "_model_module": "@jupyter-widgets/controls",
            "_model_module_version": "1.5.0",
            "_model_name": "DescriptionStyleModel",
            "_view_count": null,
            "_view_module": "@jupyter-widgets/base",
            "_view_module_version": "1.2.0",
            "_view_name": "StyleView",
            "description_width": ""
          }
        },
        "fff94b4dc9d440979f17bacd9e20bde4": {
          "model_module": "@jupyter-widgets/controls",
          "model_name": "HBoxModel",
          "model_module_version": "1.5.0",
          "state": {
            "_dom_classes": [],
            "_model_module": "@jupyter-widgets/controls",
            "_model_module_version": "1.5.0",
            "_model_name": "HBoxModel",
            "_view_count": null,
            "_view_module": "@jupyter-widgets/controls",
            "_view_module_version": "1.5.0",
            "_view_name": "HBoxView",
            "box_style": "",
            "children": [
              "IPY_MODEL_440e512eec6341888cc811b7bf30ecb6",
              "IPY_MODEL_808cb5f3ddbe484f8a0a947ae82e75b8",
              "IPY_MODEL_0934d172be69402e931ff4ac0f401cd7"
            ],
            "layout": "IPY_MODEL_441df126ef8e4bc7a02f0ad95f3a2b39"
          }
        },
        "440e512eec6341888cc811b7bf30ecb6": {
          "model_module": "@jupyter-widgets/controls",
          "model_name": "HTMLModel",
          "model_module_version": "1.5.0",
          "state": {
            "_dom_classes": [],
            "_model_module": "@jupyter-widgets/controls",
            "_model_module_version": "1.5.0",
            "_model_name": "HTMLModel",
            "_view_count": null,
            "_view_module": "@jupyter-widgets/controls",
            "_view_module_version": "1.5.0",
            "_view_name": "HTMLView",
            "description": "",
            "description_tooltip": null,
            "layout": "IPY_MODEL_f0852e7562314e6eaea977ae1d9a0cb8",
            "placeholder": "​",
            "style": "IPY_MODEL_9a32dab5446e492ca8322ea7cea98332",
            "value": "100%"
          }
        },
        "808cb5f3ddbe484f8a0a947ae82e75b8": {
          "model_module": "@jupyter-widgets/controls",
          "model_name": "FloatProgressModel",
          "model_module_version": "1.5.0",
          "state": {
            "_dom_classes": [],
            "_model_module": "@jupyter-widgets/controls",
            "_model_module_version": "1.5.0",
            "_model_name": "FloatProgressModel",
            "_view_count": null,
            "_view_module": "@jupyter-widgets/controls",
            "_view_module_version": "1.5.0",
            "_view_name": "ProgressView",
            "bar_style": "success",
            "description": "",
            "description_tooltip": null,
            "layout": "IPY_MODEL_67d7ef1aa3204e88b105e8bdfcab38a7",
            "max": 30,
            "min": 0,
            "orientation": "horizontal",
            "style": "IPY_MODEL_18d46918a803420a846c1c36cf7cd04b",
            "value": 30
          }
        },
        "0934d172be69402e931ff4ac0f401cd7": {
          "model_module": "@jupyter-widgets/controls",
          "model_name": "HTMLModel",
          "model_module_version": "1.5.0",
          "state": {
            "_dom_classes": [],
            "_model_module": "@jupyter-widgets/controls",
            "_model_module_version": "1.5.0",
            "_model_name": "HTMLModel",
            "_view_count": null,
            "_view_module": "@jupyter-widgets/controls",
            "_view_module_version": "1.5.0",
            "_view_name": "HTMLView",
            "description": "",
            "description_tooltip": null,
            "layout": "IPY_MODEL_d35f9fdacfa44c22a62c46dfd906214c",
            "placeholder": "​",
            "style": "IPY_MODEL_eac23a50f9ae46beb61333062c7e3c35",
            "value": " 30/30 [07:53&lt;00:00, 15.94s/it]"
          }
        },
        "441df126ef8e4bc7a02f0ad95f3a2b39": {
          "model_module": "@jupyter-widgets/base",
          "model_name": "LayoutModel",
          "model_module_version": "1.2.0",
          "state": {
            "_model_module": "@jupyter-widgets/base",
            "_model_module_version": "1.2.0",
            "_model_name": "LayoutModel",
            "_view_count": null,
            "_view_module": "@jupyter-widgets/base",
            "_view_module_version": "1.2.0",
            "_view_name": "LayoutView",
            "align_content": null,
            "align_items": null,
            "align_self": null,
            "border": null,
            "bottom": null,
            "display": null,
            "flex": null,
            "flex_flow": null,
            "grid_area": null,
            "grid_auto_columns": null,
            "grid_auto_flow": null,
            "grid_auto_rows": null,
            "grid_column": null,
            "grid_gap": null,
            "grid_row": null,
            "grid_template_areas": null,
            "grid_template_columns": null,
            "grid_template_rows": null,
            "height": null,
            "justify_content": null,
            "justify_items": null,
            "left": null,
            "margin": null,
            "max_height": null,
            "max_width": null,
            "min_height": null,
            "min_width": null,
            "object_fit": null,
            "object_position": null,
            "order": null,
            "overflow": null,
            "overflow_x": null,
            "overflow_y": null,
            "padding": null,
            "right": null,
            "top": null,
            "visibility": null,
            "width": null
          }
        },
        "f0852e7562314e6eaea977ae1d9a0cb8": {
          "model_module": "@jupyter-widgets/base",
          "model_name": "LayoutModel",
          "model_module_version": "1.2.0",
          "state": {
            "_model_module": "@jupyter-widgets/base",
            "_model_module_version": "1.2.0",
            "_model_name": "LayoutModel",
            "_view_count": null,
            "_view_module": "@jupyter-widgets/base",
            "_view_module_version": "1.2.0",
            "_view_name": "LayoutView",
            "align_content": null,
            "align_items": null,
            "align_self": null,
            "border": null,
            "bottom": null,
            "display": null,
            "flex": null,
            "flex_flow": null,
            "grid_area": null,
            "grid_auto_columns": null,
            "grid_auto_flow": null,
            "grid_auto_rows": null,
            "grid_column": null,
            "grid_gap": null,
            "grid_row": null,
            "grid_template_areas": null,
            "grid_template_columns": null,
            "grid_template_rows": null,
            "height": null,
            "justify_content": null,
            "justify_items": null,
            "left": null,
            "margin": null,
            "max_height": null,
            "max_width": null,
            "min_height": null,
            "min_width": null,
            "object_fit": null,
            "object_position": null,
            "order": null,
            "overflow": null,
            "overflow_x": null,
            "overflow_y": null,
            "padding": null,
            "right": null,
            "top": null,
            "visibility": null,
            "width": null
          }
        },
        "9a32dab5446e492ca8322ea7cea98332": {
          "model_module": "@jupyter-widgets/controls",
          "model_name": "DescriptionStyleModel",
          "model_module_version": "1.5.0",
          "state": {
            "_model_module": "@jupyter-widgets/controls",
            "_model_module_version": "1.5.0",
            "_model_name": "DescriptionStyleModel",
            "_view_count": null,
            "_view_module": "@jupyter-widgets/base",
            "_view_module_version": "1.2.0",
            "_view_name": "StyleView",
            "description_width": ""
          }
        },
        "67d7ef1aa3204e88b105e8bdfcab38a7": {
          "model_module": "@jupyter-widgets/base",
          "model_name": "LayoutModel",
          "model_module_version": "1.2.0",
          "state": {
            "_model_module": "@jupyter-widgets/base",
            "_model_module_version": "1.2.0",
            "_model_name": "LayoutModel",
            "_view_count": null,
            "_view_module": "@jupyter-widgets/base",
            "_view_module_version": "1.2.0",
            "_view_name": "LayoutView",
            "align_content": null,
            "align_items": null,
            "align_self": null,
            "border": null,
            "bottom": null,
            "display": null,
            "flex": null,
            "flex_flow": null,
            "grid_area": null,
            "grid_auto_columns": null,
            "grid_auto_flow": null,
            "grid_auto_rows": null,
            "grid_column": null,
            "grid_gap": null,
            "grid_row": null,
            "grid_template_areas": null,
            "grid_template_columns": null,
            "grid_template_rows": null,
            "height": null,
            "justify_content": null,
            "justify_items": null,
            "left": null,
            "margin": null,
            "max_height": null,
            "max_width": null,
            "min_height": null,
            "min_width": null,
            "object_fit": null,
            "object_position": null,
            "order": null,
            "overflow": null,
            "overflow_x": null,
            "overflow_y": null,
            "padding": null,
            "right": null,
            "top": null,
            "visibility": null,
            "width": null
          }
        },
        "18d46918a803420a846c1c36cf7cd04b": {
          "model_module": "@jupyter-widgets/controls",
          "model_name": "ProgressStyleModel",
          "model_module_version": "1.5.0",
          "state": {
            "_model_module": "@jupyter-widgets/controls",
            "_model_module_version": "1.5.0",
            "_model_name": "ProgressStyleModel",
            "_view_count": null,
            "_view_module": "@jupyter-widgets/base",
            "_view_module_version": "1.2.0",
            "_view_name": "StyleView",
            "bar_color": null,
            "description_width": ""
          }
        },
        "d35f9fdacfa44c22a62c46dfd906214c": {
          "model_module": "@jupyter-widgets/base",
          "model_name": "LayoutModel",
          "model_module_version": "1.2.0",
          "state": {
            "_model_module": "@jupyter-widgets/base",
            "_model_module_version": "1.2.0",
            "_model_name": "LayoutModel",
            "_view_count": null,
            "_view_module": "@jupyter-widgets/base",
            "_view_module_version": "1.2.0",
            "_view_name": "LayoutView",
            "align_content": null,
            "align_items": null,
            "align_self": null,
            "border": null,
            "bottom": null,
            "display": null,
            "flex": null,
            "flex_flow": null,
            "grid_area": null,
            "grid_auto_columns": null,
            "grid_auto_flow": null,
            "grid_auto_rows": null,
            "grid_column": null,
            "grid_gap": null,
            "grid_row": null,
            "grid_template_areas": null,
            "grid_template_columns": null,
            "grid_template_rows": null,
            "height": null,
            "justify_content": null,
            "justify_items": null,
            "left": null,
            "margin": null,
            "max_height": null,
            "max_width": null,
            "min_height": null,
            "min_width": null,
            "object_fit": null,
            "object_position": null,
            "order": null,
            "overflow": null,
            "overflow_x": null,
            "overflow_y": null,
            "padding": null,
            "right": null,
            "top": null,
            "visibility": null,
            "width": null
          }
        },
        "eac23a50f9ae46beb61333062c7e3c35": {
          "model_module": "@jupyter-widgets/controls",
          "model_name": "DescriptionStyleModel",
          "model_module_version": "1.5.0",
          "state": {
            "_model_module": "@jupyter-widgets/controls",
            "_model_module_version": "1.5.0",
            "_model_name": "DescriptionStyleModel",
            "_view_count": null,
            "_view_module": "@jupyter-widgets/base",
            "_view_module_version": "1.2.0",
            "_view_name": "StyleView",
            "description_width": ""
          }
        },
        "01bd79d4e26f4fccbdc77cf1700f359e": {
          "model_module": "@jupyter-widgets/controls",
          "model_name": "HBoxModel",
          "model_module_version": "1.5.0",
          "state": {
            "_dom_classes": [],
            "_model_module": "@jupyter-widgets/controls",
            "_model_module_version": "1.5.0",
            "_model_name": "HBoxModel",
            "_view_count": null,
            "_view_module": "@jupyter-widgets/controls",
            "_view_module_version": "1.5.0",
            "_view_name": "HBoxView",
            "box_style": "",
            "children": [
              "IPY_MODEL_4461a992dee448bc854d9ea0ec096a84",
              "IPY_MODEL_9e688047e02a4728baccb8f3f67339bb",
              "IPY_MODEL_0ffc37ab49f24d2d85ad2af330683ab7"
            ],
            "layout": "IPY_MODEL_dc4ded417542417e8471656ba33d6bb2"
          }
        },
        "4461a992dee448bc854d9ea0ec096a84": {
          "model_module": "@jupyter-widgets/controls",
          "model_name": "HTMLModel",
          "model_module_version": "1.5.0",
          "state": {
            "_dom_classes": [],
            "_model_module": "@jupyter-widgets/controls",
            "_model_module_version": "1.5.0",
            "_model_name": "HTMLModel",
            "_view_count": null,
            "_view_module": "@jupyter-widgets/controls",
            "_view_module_version": "1.5.0",
            "_view_name": "HTMLView",
            "description": "",
            "description_tooltip": null,
            "layout": "IPY_MODEL_d17765e12f074177a3d1d7ace1789ad5",
            "placeholder": "​",
            "style": "IPY_MODEL_f7decf147e0040729c5c9a38239904bd",
            "value": "100%"
          }
        },
        "9e688047e02a4728baccb8f3f67339bb": {
          "model_module": "@jupyter-widgets/controls",
          "model_name": "FloatProgressModel",
          "model_module_version": "1.5.0",
          "state": {
            "_dom_classes": [],
            "_model_module": "@jupyter-widgets/controls",
            "_model_module_version": "1.5.0",
            "_model_name": "FloatProgressModel",
            "_view_count": null,
            "_view_module": "@jupyter-widgets/controls",
            "_view_module_version": "1.5.0",
            "_view_name": "ProgressView",
            "bar_style": "success",
            "description": "",
            "description_tooltip": null,
            "layout": "IPY_MODEL_22e7ff72ceb6488893e51dac7934b5b6",
            "max": 30,
            "min": 0,
            "orientation": "horizontal",
            "style": "IPY_MODEL_6702cc8ca3a14545b46a79835c14ef62",
            "value": 30
          }
        },
        "0ffc37ab49f24d2d85ad2af330683ab7": {
          "model_module": "@jupyter-widgets/controls",
          "model_name": "HTMLModel",
          "model_module_version": "1.5.0",
          "state": {
            "_dom_classes": [],
            "_model_module": "@jupyter-widgets/controls",
            "_model_module_version": "1.5.0",
            "_model_name": "HTMLModel",
            "_view_count": null,
            "_view_module": "@jupyter-widgets/controls",
            "_view_module_version": "1.5.0",
            "_view_name": "HTMLView",
            "description": "",
            "description_tooltip": null,
            "layout": "IPY_MODEL_f6b18728247f4df5b0b71aeeb48a68ff",
            "placeholder": "​",
            "style": "IPY_MODEL_f0c9350b2503482e8ebf9200e922ce1b",
            "value": " 30/30 [07:39&lt;00:00, 15.23s/it]"
          }
        },
        "dc4ded417542417e8471656ba33d6bb2": {
          "model_module": "@jupyter-widgets/base",
          "model_name": "LayoutModel",
          "model_module_version": "1.2.0",
          "state": {
            "_model_module": "@jupyter-widgets/base",
            "_model_module_version": "1.2.0",
            "_model_name": "LayoutModel",
            "_view_count": null,
            "_view_module": "@jupyter-widgets/base",
            "_view_module_version": "1.2.0",
            "_view_name": "LayoutView",
            "align_content": null,
            "align_items": null,
            "align_self": null,
            "border": null,
            "bottom": null,
            "display": null,
            "flex": null,
            "flex_flow": null,
            "grid_area": null,
            "grid_auto_columns": null,
            "grid_auto_flow": null,
            "grid_auto_rows": null,
            "grid_column": null,
            "grid_gap": null,
            "grid_row": null,
            "grid_template_areas": null,
            "grid_template_columns": null,
            "grid_template_rows": null,
            "height": null,
            "justify_content": null,
            "justify_items": null,
            "left": null,
            "margin": null,
            "max_height": null,
            "max_width": null,
            "min_height": null,
            "min_width": null,
            "object_fit": null,
            "object_position": null,
            "order": null,
            "overflow": null,
            "overflow_x": null,
            "overflow_y": null,
            "padding": null,
            "right": null,
            "top": null,
            "visibility": null,
            "width": null
          }
        },
        "d17765e12f074177a3d1d7ace1789ad5": {
          "model_module": "@jupyter-widgets/base",
          "model_name": "LayoutModel",
          "model_module_version": "1.2.0",
          "state": {
            "_model_module": "@jupyter-widgets/base",
            "_model_module_version": "1.2.0",
            "_model_name": "LayoutModel",
            "_view_count": null,
            "_view_module": "@jupyter-widgets/base",
            "_view_module_version": "1.2.0",
            "_view_name": "LayoutView",
            "align_content": null,
            "align_items": null,
            "align_self": null,
            "border": null,
            "bottom": null,
            "display": null,
            "flex": null,
            "flex_flow": null,
            "grid_area": null,
            "grid_auto_columns": null,
            "grid_auto_flow": null,
            "grid_auto_rows": null,
            "grid_column": null,
            "grid_gap": null,
            "grid_row": null,
            "grid_template_areas": null,
            "grid_template_columns": null,
            "grid_template_rows": null,
            "height": null,
            "justify_content": null,
            "justify_items": null,
            "left": null,
            "margin": null,
            "max_height": null,
            "max_width": null,
            "min_height": null,
            "min_width": null,
            "object_fit": null,
            "object_position": null,
            "order": null,
            "overflow": null,
            "overflow_x": null,
            "overflow_y": null,
            "padding": null,
            "right": null,
            "top": null,
            "visibility": null,
            "width": null
          }
        },
        "f7decf147e0040729c5c9a38239904bd": {
          "model_module": "@jupyter-widgets/controls",
          "model_name": "DescriptionStyleModel",
          "model_module_version": "1.5.0",
          "state": {
            "_model_module": "@jupyter-widgets/controls",
            "_model_module_version": "1.5.0",
            "_model_name": "DescriptionStyleModel",
            "_view_count": null,
            "_view_module": "@jupyter-widgets/base",
            "_view_module_version": "1.2.0",
            "_view_name": "StyleView",
            "description_width": ""
          }
        },
        "22e7ff72ceb6488893e51dac7934b5b6": {
          "model_module": "@jupyter-widgets/base",
          "model_name": "LayoutModel",
          "model_module_version": "1.2.0",
          "state": {
            "_model_module": "@jupyter-widgets/base",
            "_model_module_version": "1.2.0",
            "_model_name": "LayoutModel",
            "_view_count": null,
            "_view_module": "@jupyter-widgets/base",
            "_view_module_version": "1.2.0",
            "_view_name": "LayoutView",
            "align_content": null,
            "align_items": null,
            "align_self": null,
            "border": null,
            "bottom": null,
            "display": null,
            "flex": null,
            "flex_flow": null,
            "grid_area": null,
            "grid_auto_columns": null,
            "grid_auto_flow": null,
            "grid_auto_rows": null,
            "grid_column": null,
            "grid_gap": null,
            "grid_row": null,
            "grid_template_areas": null,
            "grid_template_columns": null,
            "grid_template_rows": null,
            "height": null,
            "justify_content": null,
            "justify_items": null,
            "left": null,
            "margin": null,
            "max_height": null,
            "max_width": null,
            "min_height": null,
            "min_width": null,
            "object_fit": null,
            "object_position": null,
            "order": null,
            "overflow": null,
            "overflow_x": null,
            "overflow_y": null,
            "padding": null,
            "right": null,
            "top": null,
            "visibility": null,
            "width": null
          }
        },
        "6702cc8ca3a14545b46a79835c14ef62": {
          "model_module": "@jupyter-widgets/controls",
          "model_name": "ProgressStyleModel",
          "model_module_version": "1.5.0",
          "state": {
            "_model_module": "@jupyter-widgets/controls",
            "_model_module_version": "1.5.0",
            "_model_name": "ProgressStyleModel",
            "_view_count": null,
            "_view_module": "@jupyter-widgets/base",
            "_view_module_version": "1.2.0",
            "_view_name": "StyleView",
            "bar_color": null,
            "description_width": ""
          }
        },
        "f6b18728247f4df5b0b71aeeb48a68ff": {
          "model_module": "@jupyter-widgets/base",
          "model_name": "LayoutModel",
          "model_module_version": "1.2.0",
          "state": {
            "_model_module": "@jupyter-widgets/base",
            "_model_module_version": "1.2.0",
            "_model_name": "LayoutModel",
            "_view_count": null,
            "_view_module": "@jupyter-widgets/base",
            "_view_module_version": "1.2.0",
            "_view_name": "LayoutView",
            "align_content": null,
            "align_items": null,
            "align_self": null,
            "border": null,
            "bottom": null,
            "display": null,
            "flex": null,
            "flex_flow": null,
            "grid_area": null,
            "grid_auto_columns": null,
            "grid_auto_flow": null,
            "grid_auto_rows": null,
            "grid_column": null,
            "grid_gap": null,
            "grid_row": null,
            "grid_template_areas": null,
            "grid_template_columns": null,
            "grid_template_rows": null,
            "height": null,
            "justify_content": null,
            "justify_items": null,
            "left": null,
            "margin": null,
            "max_height": null,
            "max_width": null,
            "min_height": null,
            "min_width": null,
            "object_fit": null,
            "object_position": null,
            "order": null,
            "overflow": null,
            "overflow_x": null,
            "overflow_y": null,
            "padding": null,
            "right": null,
            "top": null,
            "visibility": null,
            "width": null
          }
        },
        "f0c9350b2503482e8ebf9200e922ce1b": {
          "model_module": "@jupyter-widgets/controls",
          "model_name": "DescriptionStyleModel",
          "model_module_version": "1.5.0",
          "state": {
            "_model_module": "@jupyter-widgets/controls",
            "_model_module_version": "1.5.0",
            "_model_name": "DescriptionStyleModel",
            "_view_count": null,
            "_view_module": "@jupyter-widgets/base",
            "_view_module_version": "1.2.0",
            "_view_name": "StyleView",
            "description_width": ""
          }
        }
      }
    }
  },
  "nbformat": 4,
  "nbformat_minor": 0
}
