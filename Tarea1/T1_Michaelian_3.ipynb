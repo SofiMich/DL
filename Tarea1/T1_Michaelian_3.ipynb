{
  "cells": [
    {
      "cell_type": "markdown",
      "metadata": {
        "id": "view-in-github",
        "colab_type": "text"
      },
      "source": [
        "<a href=\"https://colab.research.google.com/github/SofiMich/DL/blob/main/T1_Michaelian_3.ipynb\" target=\"_parent\"><img src=\"https://colab.research.google.com/assets/colab-badge.svg\" alt=\"Open In Colab\"/></a>"
      ]
    },
    {
      "cell_type": "markdown",
      "source": [
        "#3. Regresión lineal con PyTorch\n",
        "\n",
        "Para este ejercicio me voy a guiar en el notebook de APIs de Pytorch que vimos en clase con los ayudantes."
      ],
      "metadata": {
        "id": "U9k7P4eR1_PF"
      }
    },
    {
      "cell_type": "markdown",
      "metadata": {
        "id": "Rj8cz2aIoQbm"
      },
      "source": [
        "## 1 Preparación\n",
        "\n",
        "### 1.1 Bibliotecas"
      ]
    },
    {
      "cell_type": "code",
      "execution_count": null,
      "metadata": {
        "id": "otA9ag23oQbn"
      },
      "outputs": [],
      "source": [
        "import math\n",
        "import os\n",
        "import random\n",
        "\n",
        "import matplotlib.pyplot as plt\n",
        "import matplotlib.axes as plt3d #para graficar en 3D\n",
        "\n",
        "import numpy as np\n",
        "\n",
        "import pandas as pd\n",
        "\n",
        "# redes neuronales\n",
        "import torch\n",
        "import torch.nn as nn\n",
        "import torch.nn.functional as F\n",
        "import torch.optim as optim\n",
        "\n",
        "from torch.utils.data import DataLoader, TensorDataset"
      ]
    },
    {
      "cell_type": "markdown",
      "metadata": {
        "id": "_Se5cAXEoQbp"
      },
      "source": [
        "### 1.2 Auxiliares"
      ]
    },
    {
      "cell_type": "code",
      "execution_count": null,
      "metadata": {
        "id": "LDbacUrpoQbp"
      },
      "outputs": [],
      "source": [
        "# datos\n",
        "URL = 'https://raw.githubusercontent.com/gibranfp/CursoAprendizajeProfundo/2023-1/data/califs/califs.csv'\n",
        "data_dir = '../data'\n",
        "filepath = os.path.join(data_dir, 'califs.csv')\n",
        "\n",
        "def set_seed(seed=0):\n",
        "    \"\"\"Initializes pseudo-random number generators.\"\"\"\n",
        "    random.seed(seed)\n",
        "    np.random.seed(seed)\n",
        "    torch.manual_seed(seed)"
      ]
    },
    {
      "cell_type": "markdown",
      "metadata": {
        "id": "iYFpLnr2oQbq"
      },
      "source": [
        "## 2 Datos"
      ]
    },
    {
      "cell_type": "markdown",
      "metadata": {
        "id": "p7gVMB67oQbq"
      },
      "source": [
        "Descargamos los datos."
      ]
    },
    {
      "cell_type": "code",
      "execution_count": null,
      "metadata": {
        "id": "U1BkzO59oQbr"
      },
      "outputs": [],
      "source": [
        "! mkdir {data_dir}\n",
        "! wget -nc {URL} -O {filepath}"
      ]
    },
    {
      "cell_type": "markdown",
      "metadata": {
        "id": "EjqeexQ0oQbs"
      },
      "source": [
        "Cargamos los datos."
      ]
    },
    {
      "cell_type": "code",
      "execution_count": null,
      "metadata": {
        "scrolled": true,
        "id": "goeC9kt6oQbs"
      },
      "outputs": [],
      "source": [
        "df = pd.read_csv(filepath)"
      ]
    },
    {
      "cell_type": "markdown",
      "metadata": {
        "id": "3m5AiX_qoQbt"
      },
      "source": [
        "Graficamos los datos en 3D:"
      ]
    },
    {
      "cell_type": "code",
      "source": [
        "fig = plt.figure(figsize = (10, 7))\n",
        "ax = plt.axes(projection =\"3d\")\n",
        "\n",
        "ax.scatter3D(df['prev'],df['horas'],df['calif'])\n",
        "ax.set_xlabel('Calificación previa', fontweight ='bold')\n",
        "ax.set_ylabel('Horas de estudio', fontweight ='bold')\n",
        "ax.set_zlabel('Calificación', fontweight ='bold')\n",
        "\n",
        "plt.show()"
      ],
      "metadata": {
        "id": "MAS7Hh3FrGfC"
      },
      "execution_count": null,
      "outputs": []
    },
    {
      "cell_type": "markdown",
      "source": [
        "Creamos nuestros arreglos con los datos:"
      ],
      "metadata": {
        "id": "CpNMFvTH49Zz"
      }
    },
    {
      "cell_type": "code",
      "source": [
        "x_trn = np.array(df.iloc[:,:2], dtype=\"float32\")\n",
        "y_trn = np.array(df.iloc[:,-1], dtype=\"float32\")[..., np.newaxis]\n",
        "\n",
        "x_trn = torch.tensor(x_trn)\n",
        "y_trn = torch.tensor(y_trn)\n",
        "\n",
        "print(x_trn.shape)\n",
        "print(y_trn.shape)"
      ],
      "metadata": {
        "id": "YhfiwKVxtk-y"
      },
      "execution_count": null,
      "outputs": []
    },
    {
      "cell_type": "markdown",
      "source": [
        "Y los metemos a un tensor:"
      ],
      "metadata": {
        "id": "8EpcssB-5lnm"
      }
    },
    {
      "cell_type": "code",
      "execution_count": null,
      "metadata": {
        "id": "g9T03YTMoQbv"
      },
      "outputs": [],
      "source": [
        "ds = TensorDataset(x_trn, y_trn)\n",
        "ds[0]"
      ]
    },
    {
      "cell_type": "markdown",
      "metadata": {
        "id": "cezJWh5foQbv"
      },
      "source": [
        "### 2.2 Cargador de datos\n",
        "\n",
        "\n",
        "Para ver el funcionamiento de la tubería de datos imprimimos la forma de cada lote y su primer elemento."
      ]
    },
    {
      "cell_type": "code",
      "execution_count": null,
      "metadata": {
        "id": "mH85wF_foQbw"
      },
      "outputs": [],
      "source": [
        "def build_dl(batch_size=16, shuffle=True):\n",
        "    return DataLoader(ds, batch_size=batch_size, shuffle=True)\n",
        "\n",
        "# creamos un DataLoader\n",
        "dl = build_dl()\n",
        "\n",
        "x, y = next(iter(dl))\n",
        "print(f'x shape={x.shape} dtype={x.dtype}')\n",
        "print(f'y shape={y.shape} dtype={y.dtype}')"
      ]
    },
    {
      "cell_type": "code",
      "execution_count": null,
      "metadata": {
        "id": "X1IrA3ytoQbw"
      },
      "outputs": [],
      "source": [
        "len(ds)"
      ]
    },
    {
      "cell_type": "markdown",
      "metadata": {
        "id": "UznqrkYLoQbw"
      },
      "source": [
        "## 3 Entrenamiento\n",
        "Para el entrenamiento vamos a usar el descenso por gradiente estocástico como optimizador:\n",
        "\n",
        " y el error cuadrático medio como función de pérdida:"
      ]
    },
    {
      "cell_type": "code",
      "execution_count": null,
      "metadata": {
        "id": "I-p_YZ3ooQbw"
      },
      "outputs": [],
      "source": [
        "def train(model, dl, epochs=5, lr=1e-3):\n",
        "\n",
        "    opt = optim.SGD(model.parameters(), lr)\n",
        "\n",
        "    loss_hist = []\n",
        "\n",
        "    for epoch in range(epochs):\n",
        "\n",
        "        # historial\n",
        "        loss = []\n",
        "        \n",
        "        # entrenamiento de una época\n",
        "        for x, y_true in dl:\n",
        "            # inferencia\n",
        "            y_lgts = model(x)\n",
        "            # calculamos de pérdida y exactitud\n",
        "            p = F.mse_loss(y_lgts, y_true) \n",
        "            \n",
        "            # vaciamos los gradientes\n",
        "            opt.zero_grad()\n",
        "            # retropropagamos\n",
        "            p.backward()\n",
        "            # actulizamos parámetros\n",
        "            opt.step()\n",
        "\n",
        "            # guardamos historial de pérdida\n",
        "            loss.append(p.item() * 100)\n",
        "            \n",
        "        # imprimimos la pérdida de la época\n",
        "        loss_hist.append(np.mean(loss))\n",
        "\n",
        "        print(f'E{epoch:02} pérdida: [{loss_hist[-1]:6.2f}] ')\n",
        "  \n",
        "    return  loss_hist\n",
        "        \n",
        "def train_model(build_model, epochs=5):\n",
        "    set_seed()\n",
        "    dl = build_dl()\n",
        "    model = build_model()\n",
        "    perdida = train(model, dl, epochs)\n",
        "    return perdida"
      ]
    },
    {
      "cell_type": "markdown",
      "metadata": {
        "id": "JLVlY_K_oQbx"
      },
      "source": [
        "## 4 Definición de la arquitectura\n",
        "\n",
        "Para implementar arquitecturas, PyTorch define dos clases fundamentales.\n",
        "\n",
        "* `nn.Module` define una red neuronal que internamente puede tener otras redes neuronales anidadas (o capas). Tres metodos importantes son:\n",
        "  * `__init__(self, args)` es el inicilizador que define al objeto,\n",
        "  * `fordward(x)` realizar predicción (hacia adelante),\n",
        "  * `parameters(x)` regresa una lista de los parámetros (`nn.Parameter`) de la red y redes anidadas.\n",
        "\n",
        "\n",
        "* `nn.Parameter` envuelve un tensor solo para marcarlo como parámetro y que sea regresado por `nn.Module.parameters(x)`."
      ]
    },
    {
      "cell_type": "markdown",
      "metadata": {
        "id": "WdaPDvo8oQbx"
      },
      "source": [
        "### 4.1 Alto nivel \n",
        "Como es ua regresión lineal, sólo necesitamos una capa lineal sin fución de activación:"
      ]
    },
    {
      "cell_type": "code",
      "execution_count": null,
      "metadata": {
        "id": "Nq9KvxsuoQby"
      },
      "outputs": [],
      "source": [
        "def build_high():\n",
        "    model = nn.Sequential(\n",
        "        nn.Linear(2, 1)\n",
        "    )\n",
        "    return model\n",
        "\n",
        "build_high()"
      ]
    },
    {
      "cell_type": "markdown",
      "metadata": {
        "id": "4U8zdObboQby"
      },
      "source": [
        "### 4.2 Nivel medio\n",
        "Lo mismo, solo usamos una capa lineal:"
      ]
    },
    {
      "cell_type": "code",
      "execution_count": null,
      "metadata": {
        "id": "6WmxSbdKoQby"
      },
      "outputs": [],
      "source": [
        "\n",
        "class LinRegMed(nn.Module):\n",
        "\n",
        "    # Inicializador:\n",
        "    def __init__(self):\n",
        "        # se llama al inicializador de la clase padre\n",
        "        super().__init__()\n",
        "        \n",
        "        self.fc2 = nn.Linear(2, 1)\n",
        "        \n",
        "\n",
        "    # método para inferencia\n",
        "    def forward(self, x):\n",
        "        x = self.fc2(x)\n",
        "        return x\n",
        "\n",
        "def build_med():\n",
        "    return LinRegMed()\n",
        "\n",
        "build_med()"
      ]
    },
    {
      "cell_type": "markdown",
      "metadata": {
        "id": "M2pHLS62oQbz"
      },
      "source": [
        "## 5. Entrenando modelos\n",
        "Para entrenar los modelos usaré 100 épocas con una taza de aprendizaje de $1\\times10^{-3}$"
      ]
    },
    {
      "cell_type": "code",
      "execution_count": null,
      "metadata": {
        "id": "NTKbk8ZAoQbz"
      },
      "outputs": [],
      "source": [
        "perdidaHi = train_model(build_high,100)"
      ]
    },
    {
      "cell_type": "code",
      "execution_count": null,
      "metadata": {
        "id": "juAR8UlAoQb0"
      },
      "outputs": [],
      "source": [
        "perdidaMed = train_model(build_med, 100)"
      ]
    },
    {
      "cell_type": "markdown",
      "source": [
        "Al comparar los dos modelos, vemos que dan resultados muy similares par la pérdida:"
      ],
      "metadata": {
        "id": "PIzOLMGHHcEz"
      }
    },
    {
      "cell_type": "code",
      "source": [
        "plt.plot(range(100),perdidaHi, label='Alto ivel')\n",
        "plt.plot(range(100),perdidaMed, label = 'Nivel medio')\n",
        "\n",
        "plt.xlabel('época')\n",
        "plt.ylabel('pérdida')\n",
        "plt.show()"
      ],
      "metadata": {
        "id": "lMtdQFX03ayX"
      },
      "execution_count": null,
      "outputs": []
    },
    {
      "cell_type": "markdown",
      "metadata": {
        "id": "LwEZO3x8oQb1"
      },
      "source": [
        "## 6. Obteniendo  parámetros"
      ]
    },
    {
      "cell_type": "code",
      "execution_count": null,
      "metadata": {
        "id": "1VNKexkaoQb1"
      },
      "outputs": [],
      "source": [
        "high = build_high()\n",
        "med = build_med()"
      ]
    },
    {
      "cell_type": "code",
      "execution_count": null,
      "metadata": {
        "id": "hLZvjSH6oQb1"
      },
      "outputs": [],
      "source": [
        "list(high.parameters())"
      ]
    },
    {
      "cell_type": "code",
      "execution_count": null,
      "metadata": {
        "id": "0RwCOfGmoQb1"
      },
      "outputs": [],
      "source": [
        "list(med.parameters())"
      ]
    },
    {
      "cell_type": "markdown",
      "source": [
        "Los parámetros estimados por las redes son similares, pero no son iguales"
      ],
      "metadata": {
        "id": "IkYZ961FYJrD"
      }
    },
    {
      "cell_type": "markdown",
      "source": [
        "##7. Inferencia"
      ],
      "metadata": {
        "id": "8XooXUkUbFbq"
      }
    },
    {
      "cell_type": "markdown",
      "source": [
        "Para hacer la inferencia sobre un alumno que estudió durante 12 horas y obtuvo 3 de caificación en un examen previo hacemos:"
      ],
      "metadata": {
        "id": "mh7Mouz0fa3H"
      }
    },
    {
      "cell_type": "code",
      "source": [
        "med(torch.tensor([4.0,12.0]))"
      ],
      "metadata": {
        "id": "HukN5tc-faZ8"
      },
      "execution_count": null,
      "outputs": []
    },
    {
      "cell_type": "code",
      "source": [
        "high(torch.tensor([4.0,12.0]))"
      ],
      "metadata": {
        "id": "fuhW2mxGgtNG"
      },
      "execution_count": null,
      "outputs": []
    },
    {
      "cell_type": "markdown",
      "source": [
        "Dado que los parámetros que cada red aprendió son diferentes, sus predicciones son diferentes."
      ],
      "metadata": {
        "id": "IVC6H2bCbZ0Q"
      }
    },
    {
      "cell_type": "code",
      "source": [
        "y_predichaFinalMed = med(x_trn).detach().numpy().reshape(50,)"
      ],
      "metadata": {
        "id": "kWoHLoczrtcX"
      },
      "execution_count": null,
      "outputs": []
    },
    {
      "cell_type": "code",
      "source": [
        "fig = plt.figure(figsize = (10, 7))\n",
        "ax = plt.axes(projection =\"3d\")\n",
        "\n",
        "np.arange(5, 10, 0.1)\n",
        "x_line = np.arange(5, 10, 5.0/10)\n",
        "y_line = np.arange(8, 14, 6.0/10)\n",
        "z_line = 0.6499*x_line + 0.2892*y_line\n",
        "\n",
        "#ax.plot3D(x_line,y_line,z_line, color = 'red')\n",
        "ax.plot_trisurf(df['prev'],df['horas'],y_predichaFinalMed)\n",
        "ax.scatter3D(df['prev'],df['horas'],df['calif'])\n",
        "ax.set_xlabel('Calificación previa', fontweight ='bold')\n",
        "ax.set_ylabel('Horas de estudio', fontweight ='bold')\n",
        "ax.set_zlabel('Calificación', fontweight ='bold')\n",
        "\n",
        "plt.show()"
      ],
      "metadata": {
        "id": "rL-gFleBbiCW"
      },
      "execution_count": null,
      "outputs": []
    },
    {
      "cell_type": "code",
      "source": [
        "perdidaHi = train_model(build_high,100)"
      ],
      "metadata": {
        "id": "8B31rxhXj6qB"
      },
      "execution_count": null,
      "outputs": []
    }
  ],
  "metadata": {
    "kernelspec": {
      "display_name": "Python 3 (ipykernel)",
      "language": "python",
      "name": "python3"
    },
    "language_info": {
      "codemirror_mode": {
        "name": "ipython",
        "version": 3
      },
      "file_extension": ".py",
      "mimetype": "text/x-python",
      "name": "python",
      "nbconvert_exporter": "python",
      "pygments_lexer": "ipython3",
      "version": "3.10.6"
    },
    "colab": {
      "provenance": [],
      "include_colab_link": true
    }
  },
  "nbformat": 4,
  "nbformat_minor": 0
}
